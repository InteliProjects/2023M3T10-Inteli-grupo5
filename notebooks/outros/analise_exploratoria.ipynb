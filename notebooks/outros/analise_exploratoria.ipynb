{
  "cells": [
    {
      "cell_type": "markdown",
      "metadata": {
        "id": "Dld0dK7_Ptqk"
      },
      "source": [
        "## Starting the exploratory analysis\n",
        "\n",
        "\n"
      ]
    },
    {
      "cell_type": "markdown",
      "metadata": {
        "id": "PdriN9fbRBpD"
      },
      "source": [
        "### 1 Importing the libs"
      ]
    },
    {
      "cell_type": "code",
      "execution_count": 1,
      "metadata": {
        "id": "iMOfFU8oK_Sz"
      },
      "outputs": [],
      "source": [
        "import pandas as pd\n",
        "import numpy as np\n",
        "import matplotlib.pyplot as plt\n",
        "import seaborn as sns\n",
        "from sklearn.preprocessing import LabelEncoder"
      ]
    },
    {
      "cell_type": "markdown",
      "metadata": {
        "id": "t_VzVMydRFMp"
      },
      "source": [
        "### 2 Reading the data"
      ]
    },
    {
      "cell_type": "code",
      "execution_count": 2,
      "metadata": {
        "id": "Efk4UWSGPRTP"
      },
      "outputs": [
        {
          "name": "stderr",
          "output_type": "stream",
          "text": [
            "/tmp/ipykernel_3137/756300242.py:1: DtypeWarning: Columns (12,14) have mixed types. Specify dtype option on import or set low_memory=False.\n",
            "  fidcs_info = pd.read_csv(\"IM_230626_semNP.csv\")\n"
          ]
        }
      ],
      "source": [
        "fidcs_info = pd.read_csv(\"IM_230626_semNP.csv\")\n",
        "assignors_info = pd.read_csv(\"IM_Cedente_230626_semNP.csv\")\n",
        "classes_info = pd.read_csv(\"IM_Classes_230626_semNP.csv\")"
      ]
    },
    {
      "cell_type": "markdown",
      "metadata": {
        "id": "jHTrA60RRaLf"
      },
      "source": [
        "### 3 Data information"
      ]
    },
    {
      "cell_type": "markdown",
      "metadata": {
        "id": "WSho-W6sRc84"
      },
      "source": [
        "#### 3.1 Fidcs_Info"
      ]
    },
    {
      "cell_type": "code",
      "execution_count": 3,
      "metadata": {
        "colab": {
          "base_uri": "https://localhost:8080/",
          "height": 602
        },
        "id": "M6YuYncuYYin",
        "outputId": "02641c75-e39a-4455-ac5b-adee38a5d77f"
      },
      "outputs": [
        {
          "data": {
            "text/html": [
              "<div>\n",
              "<style scoped>\n",
              "    .dataframe tbody tr th:only-of-type {\n",
              "        vertical-align: middle;\n",
              "    }\n",
              "\n",
              "    .dataframe tbody tr th {\n",
              "        vertical-align: top;\n",
              "    }\n",
              "\n",
              "    .dataframe thead th {\n",
              "        text-align: right;\n",
              "    }\n",
              "</style>\n",
              "<table border=\"1\" class=\"dataframe\">\n",
              "  <thead>\n",
              "    <tr style=\"text-align: right;\">\n",
              "      <th></th>\n",
              "      <th>ID_Participante</th>\n",
              "      <th>ID_Documento</th>\n",
              "      <th>SK_Documento</th>\n",
              "      <th>CNPJ</th>\n",
              "      <th>Data_Competencia</th>\n",
              "      <th>Data_Entrega</th>\n",
              "      <th>CNPJ_Administrador</th>\n",
              "      <th>Nome_Administrador</th>\n",
              "      <th>Forma_Condominio</th>\n",
              "      <th>Fundo_Exclusivo</th>\n",
              "      <th>...</th>\n",
              "      <th>Liquidez_Ate_30_Dias</th>\n",
              "      <th>Liquidez_Ate_60_Dias</th>\n",
              "      <th>Liquidez_Ate_90_Dias</th>\n",
              "      <th>Liquidez_Ate_180_Dias</th>\n",
              "      <th>Liquidez_Ate_360_Dias</th>\n",
              "      <th>Liquidez_Acima_360_Dias</th>\n",
              "      <th>Garantias_Valor_Total</th>\n",
              "      <th>Garantias_Percentual</th>\n",
              "      <th>Sistema_Origem</th>\n",
              "      <th>Nome_Fundo</th>\n",
              "    </tr>\n",
              "  </thead>\n",
              "  <tbody>\n",
              "    <tr>\n",
              "      <th>0</th>\n",
              "      <td>164756</td>\n",
              "      <td>130046</td>\n",
              "      <td>FNET|130046</td>\n",
              "      <td>24331364000112</td>\n",
              "      <td>2020-11-30</td>\n",
              "      <td>2020-12-04</td>\n",
              "      <td>6.228539e+13</td>\n",
              "      <td>SINGULARE CORRETORA DE TÍTULOS E VALORES MOBIL...</td>\n",
              "      <td>FECHADO</td>\n",
              "      <td>Não</td>\n",
              "      <td>...</td>\n",
              "      <td>0.0</td>\n",
              "      <td>0.0</td>\n",
              "      <td>0.0</td>\n",
              "      <td>0.0</td>\n",
              "      <td>0.0</td>\n",
              "      <td>0.0</td>\n",
              "      <td>0.0</td>\n",
              "      <td>0.0</td>\n",
              "      <td>FNET</td>\n",
              "      <td>CIPA FUNDO DE INVESTIMENTO EM COTAS DE FUNDOS ...</td>\n",
              "    </tr>\n",
              "    <tr>\n",
              "      <th>1</th>\n",
              "      <td>164756</td>\n",
              "      <td>137253</td>\n",
              "      <td>FNET|137253</td>\n",
              "      <td>24331364000112</td>\n",
              "      <td>2020-12-31</td>\n",
              "      <td>2021-01-07</td>\n",
              "      <td>6.228539e+13</td>\n",
              "      <td>SINGULARE CORRETORA DE TÍTULOS E VALORES MOBIL...</td>\n",
              "      <td>FECHADO</td>\n",
              "      <td>Não</td>\n",
              "      <td>...</td>\n",
              "      <td>0.0</td>\n",
              "      <td>0.0</td>\n",
              "      <td>0.0</td>\n",
              "      <td>0.0</td>\n",
              "      <td>0.0</td>\n",
              "      <td>0.0</td>\n",
              "      <td>0.0</td>\n",
              "      <td>0.0</td>\n",
              "      <td>FNET</td>\n",
              "      <td>CIPA FUNDO DE INVESTIMENTO EM COTAS DE FUNDOS ...</td>\n",
              "    </tr>\n",
              "    <tr>\n",
              "      <th>2</th>\n",
              "      <td>164756</td>\n",
              "      <td>242626</td>\n",
              "      <td>FNET|242626</td>\n",
              "      <td>24331364000112</td>\n",
              "      <td>2021-11-30</td>\n",
              "      <td>2021-12-03</td>\n",
              "      <td>6.228539e+13</td>\n",
              "      <td>SINGULARE CORRETORA DE TITULOS E VALORES MOBIL...</td>\n",
              "      <td>FECHADO</td>\n",
              "      <td>Não</td>\n",
              "      <td>...</td>\n",
              "      <td>0.0</td>\n",
              "      <td>0.0</td>\n",
              "      <td>0.0</td>\n",
              "      <td>0.0</td>\n",
              "      <td>0.0</td>\n",
              "      <td>0.0</td>\n",
              "      <td>0.0</td>\n",
              "      <td>0.0</td>\n",
              "      <td>FNET</td>\n",
              "      <td>CIPA FUNDO DE INVESTIMENTO EM COTAS DE FUNDOS ...</td>\n",
              "    </tr>\n",
              "    <tr>\n",
              "      <th>3</th>\n",
              "      <td>164756</td>\n",
              "      <td>253264</td>\n",
              "      <td>FNET|253264</td>\n",
              "      <td>24331364000112</td>\n",
              "      <td>2021-12-31</td>\n",
              "      <td>2022-01-06</td>\n",
              "      <td>6.228539e+13</td>\n",
              "      <td>SINGULARE CORRETORA DE TITULOS E VALORES MOBIL...</td>\n",
              "      <td>FECHADO</td>\n",
              "      <td>Não</td>\n",
              "      <td>...</td>\n",
              "      <td>0.0</td>\n",
              "      <td>0.0</td>\n",
              "      <td>0.0</td>\n",
              "      <td>0.0</td>\n",
              "      <td>0.0</td>\n",
              "      <td>0.0</td>\n",
              "      <td>0.0</td>\n",
              "      <td>0.0</td>\n",
              "      <td>FNET</td>\n",
              "      <td>CIPA FUNDO DE INVESTIMENTO EM COTAS DE FUNDOS ...</td>\n",
              "    </tr>\n",
              "    <tr>\n",
              "      <th>4</th>\n",
              "      <td>164756</td>\n",
              "      <td>263165</td>\n",
              "      <td>FNET|263165</td>\n",
              "      <td>24331364000112</td>\n",
              "      <td>2022-01-31</td>\n",
              "      <td>2022-02-07</td>\n",
              "      <td>6.228539e+13</td>\n",
              "      <td>SINGULARE CORRETORA DE TITULOS E VALORES MOBIL...</td>\n",
              "      <td>FECHADO</td>\n",
              "      <td>Não</td>\n",
              "      <td>...</td>\n",
              "      <td>0.0</td>\n",
              "      <td>0.0</td>\n",
              "      <td>0.0</td>\n",
              "      <td>0.0</td>\n",
              "      <td>0.0</td>\n",
              "      <td>0.0</td>\n",
              "      <td>0.0</td>\n",
              "      <td>0.0</td>\n",
              "      <td>FNET</td>\n",
              "      <td>CIPA FUNDO DE INVESTIMENTO EM COTAS DE FUNDOS ...</td>\n",
              "    </tr>\n",
              "  </tbody>\n",
              "</table>\n",
              "<p>5 rows × 321 columns</p>\n",
              "</div>"
            ],
            "text/plain": [
              "   ID_Participante  ID_Documento SK_Documento            CNPJ  \\\n",
              "0           164756        130046  FNET|130046  24331364000112   \n",
              "1           164756        137253  FNET|137253  24331364000112   \n",
              "2           164756        242626  FNET|242626  24331364000112   \n",
              "3           164756        253264  FNET|253264  24331364000112   \n",
              "4           164756        263165  FNET|263165  24331364000112   \n",
              "\n",
              "  Data_Competencia Data_Entrega  CNPJ_Administrador  \\\n",
              "0       2020-11-30   2020-12-04        6.228539e+13   \n",
              "1       2020-12-31   2021-01-07        6.228539e+13   \n",
              "2       2021-11-30   2021-12-03        6.228539e+13   \n",
              "3       2021-12-31   2022-01-06        6.228539e+13   \n",
              "4       2022-01-31   2022-02-07        6.228539e+13   \n",
              "\n",
              "                                  Nome_Administrador Forma_Condominio  \\\n",
              "0  SINGULARE CORRETORA DE TÍTULOS E VALORES MOBIL...          FECHADO   \n",
              "1  SINGULARE CORRETORA DE TÍTULOS E VALORES MOBIL...          FECHADO   \n",
              "2  SINGULARE CORRETORA DE TITULOS E VALORES MOBIL...          FECHADO   \n",
              "3  SINGULARE CORRETORA DE TITULOS E VALORES MOBIL...          FECHADO   \n",
              "4  SINGULARE CORRETORA DE TITULOS E VALORES MOBIL...          FECHADO   \n",
              "\n",
              "  Fundo_Exclusivo  ... Liquidez_Ate_30_Dias  Liquidez_Ate_60_Dias  \\\n",
              "0             Não  ...                  0.0                   0.0   \n",
              "1             Não  ...                  0.0                   0.0   \n",
              "2             Não  ...                  0.0                   0.0   \n",
              "3             Não  ...                  0.0                   0.0   \n",
              "4             Não  ...                  0.0                   0.0   \n",
              "\n",
              "  Liquidez_Ate_90_Dias  Liquidez_Ate_180_Dias Liquidez_Ate_360_Dias  \\\n",
              "0                  0.0                    0.0                   0.0   \n",
              "1                  0.0                    0.0                   0.0   \n",
              "2                  0.0                    0.0                   0.0   \n",
              "3                  0.0                    0.0                   0.0   \n",
              "4                  0.0                    0.0                   0.0   \n",
              "\n",
              "   Liquidez_Acima_360_Dias  Garantias_Valor_Total  Garantias_Percentual  \\\n",
              "0                      0.0                    0.0                   0.0   \n",
              "1                      0.0                    0.0                   0.0   \n",
              "2                      0.0                    0.0                   0.0   \n",
              "3                      0.0                    0.0                   0.0   \n",
              "4                      0.0                    0.0                   0.0   \n",
              "\n",
              "   Sistema_Origem                                         Nome_Fundo  \n",
              "0            FNET  CIPA FUNDO DE INVESTIMENTO EM COTAS DE FUNDOS ...  \n",
              "1            FNET  CIPA FUNDO DE INVESTIMENTO EM COTAS DE FUNDOS ...  \n",
              "2            FNET  CIPA FUNDO DE INVESTIMENTO EM COTAS DE FUNDOS ...  \n",
              "3            FNET  CIPA FUNDO DE INVESTIMENTO EM COTAS DE FUNDOS ...  \n",
              "4            FNET  CIPA FUNDO DE INVESTIMENTO EM COTAS DE FUNDOS ...  \n",
              "\n",
              "[5 rows x 321 columns]"
            ]
          },
          "execution_count": 3,
          "metadata": {},
          "output_type": "execute_result"
        }
      ],
      "source": [
        "# head of fidcs_info\n",
        "fidcs_info.head()"
      ]
    },
    {
      "cell_type": "code",
      "execution_count": 4,
      "metadata": {
        "colab": {
          "base_uri": "https://localhost:8080/"
        },
        "id": "edKHXiA3VNWB",
        "outputId": "33c5a9d8-44ff-4f01-e0ff-14e3ad8ed7d1"
      },
      "outputs": [
        {
          "name": "stdout",
          "output_type": "stream",
          "text": [
            "<class 'pandas.core.frame.DataFrame'>\n",
            "RangeIndex: 57301 entries, 0 to 57300\n",
            "Columns: 321 entries, ID_Participante to Nome_Fundo\n",
            "dtypes: float64(305), int64(3), object(13)\n",
            "memory usage: 140.3+ MB\n"
          ]
        }
      ],
      "source": [
        "# info of fidcs_info\n",
        "fidcs_info.info()"
      ]
    },
    {
      "cell_type": "code",
      "execution_count": 5,
      "metadata": {
        "colab": {
          "base_uri": "https://localhost:8080/"
        },
        "id": "KgxMYsHdXnpG",
        "outputId": "ae0d061e-e5be-4810-c6e6-9c73c41b1bb8"
      },
      "outputs": [
        {
          "data": {
            "text/plain": [
              "(57301, 321)"
            ]
          },
          "execution_count": 5,
          "metadata": {},
          "output_type": "execute_result"
        }
      ],
      "source": [
        "# shape of fidcs_info\n",
        "fidcs_info.shape"
      ]
    },
    {
      "cell_type": "code",
      "execution_count": 6,
      "metadata": {
        "colab": {
          "base_uri": "https://localhost:8080/"
        },
        "id": "32J3gDiOXxaX",
        "outputId": "6c4c0050-b116-4dd6-be6d-dc89fad4cede"
      },
      "outputs": [
        {
          "data": {
            "text/plain": [
              "array(['ID_Participante', 'ID_Documento', 'SK_Documento', 'CNPJ',\n",
              "       'Data_Competencia', 'Data_Entrega', 'CNPJ_Administrador',\n",
              "       'Nome_Administrador', 'Forma_Condominio', 'Fundo_Exclusivo',\n",
              "       'Cotistas_Vinculados_Interesse', 'Prazo_Conversao_Cotas',\n",
              "       'Tipo_Prazo_Conversao_Cotas', 'Prazo_Pagamento_Resgate',\n",
              "       'Tipo_Prazo_Pagamento_Resgate', 'Ativo', 'Ativo_Disponibilidades',\n",
              "       'Ativo_Carteira', 'Ativo_Direitos_Aquisicao',\n",
              "       'Ativo_Direitos_Aquisicao_Creditos_Vencer_Adimplentes',\n",
              "       'Ativo_Direitos_Aquisicao_Creditos_Vencer_Inadimplentes',\n",
              "       'Ativo_Direitos_Aquisicao_Parcelas_Inadimplentes',\n",
              "       'Ativo_Direitos_Aquisicao_Creditos_Inadimplentes',\n",
              "       'Ativo_Direitos_Aquisicao_Creditos_Performar',\n",
              "       'Ativo_Direitos_Aquisicao_Creditos_Vencidos_Pendentes',\n",
              "       'Ativo_Direitos_Aquisicao_Creditos_Empresas_Recuperacao',\n",
              "       'Ativo_Direitos_Aquisicao_Creditos_Receitas_Publicas',\n",
              "       'Ativo_Direitos_Aquisicao_Creditos_Acoes_Judiciais',\n",
              "       'Ativo_Direitos_Aquisicao_Creditos_Fator_Risco',\n",
              "       'Ativo_Direitos_Aquisicao_Creditos_Diversos',\n",
              "       'Ativo_Direitos_Aquisicao_Provisao_Reducao',\n",
              "       'Ativo_Direitos_Sem_Aquisicao',\n",
              "       'Ativo_Direitos_Sem_Aquisicao_Creditos_Vencer_Adimplentes',\n",
              "       'Ativo_Direitos_Sem_Aquisicao_Creditos_Vencer_Inadimplentes',\n",
              "       'Ativo_Direitos_Sem_Aquisicao_Parcelas_Inadimplentes',\n",
              "       'Ativo_Direitos_Sem_Aquisicao_Creditos_Inadimplentes',\n",
              "       'Ativo_Direitos_Sem_Aquisicao_Creditos_Performar',\n",
              "       'Ativo_Direitos_Sem_Aquisicao_Creditos_Vencidos_Pendentes',\n",
              "       'Ativo_Direitos_Sem_Aquisicao_Creditos_Empresas_Recuperacao',\n",
              "       'Ativo_Direitos_Sem_Aquisicao_Creditos_Receitas_Publicas',\n",
              "       'Ativo_Direitos_Sem_Aquisicao_Creditos_Acoes_Judiciais',\n",
              "       'Ativo_Direitos_Sem_Aquisicao_Creditos_Fator_Risco',\n",
              "       'Ativo_Direitos_Sem_Aquisicao_Creditos_Diversos',\n",
              "       'Ativo_Direitos_Sem_Aquisicao_Provisao_Reducao',\n",
              "       'Ativo_Valores_Mobiliarios', 'Ativo_Debentures', 'Ativo_CRI',\n",
              "       'Ativo_Notas_Promissorias', 'Ativo_Letras Financeiras',\n",
              "       'Ativo_Cotas_Fundos_ICVM_555', 'Ativo_Outros_Valores_Mobiliarios',\n",
              "       'Ativo_Titulos_Federais', 'Ativo_CDB',\n",
              "       'Ativo_Operacoes_Compromissadas', 'Ativo_Outros_Ativos_Renda_Fixa',\n",
              "       'Ativo_Cotas_FIDC', 'Ativo_Cotas_FIDC_NP', 'Ativo_Warrants',\n",
              "       'Ativo_Provisao_Debentures_CRI_NP_LF', 'Ativo_Provisao_Cotas_FIDC',\n",
              "       'Ativo_Provisao_Outros_Ativos', 'Ativo_Posicao_Derivativos',\n",
              "       'Ativo_Mercado_Termo', 'Ativo_Mercado_Opcoes',\n",
              "       'Ativo_Mercado_Futuro', 'Ativo_Diferencial_Swap',\n",
              "       'Ativo_Coberturas_Prestadas', 'Ativo_Depositos_Margem',\n",
              "       'Ativo_Outros', 'Ativo_Curto_Prazo', 'Ativo_Longo Prazo',\n",
              "       'Carteira', 'Carteira_Industrial', 'Carteira_Mercado_Imobiliario',\n",
              "       'Carteira_Comercial_Total', 'Carteira_Comercial',\n",
              "       'Carteira_Comercial_Varejo', 'Carteira_Arrendamento_Mercantil',\n",
              "       'Carteira_Servicos_Total', 'Carteira_Servicos',\n",
              "       'Carteira_Servicos_Publicos', 'Carteira_Servicos_Educacionais',\n",
              "       'Carteira_Entretenimento', 'Carteira_Agronegocio',\n",
              "       'Carteira_Financeiro', 'Carteira_Credito Pessoal',\n",
              "       'Carteira_Credito_Pessoal_Consignado',\n",
              "       'Carteira_Credito_Corporativo', 'Carteira_Middle_Market',\n",
              "       'Carteira_Veiculos', 'Carteira_Imobiliaria_Empresarial',\n",
              "       'Carteira_Imobiliaria_Residencial', 'Carteira_Outros_Financeiro',\n",
              "       'Carteira_Cartao_Credito', 'Carteira_Factoring',\n",
              "       'Carteira_Factoring_Pessoal', 'Carteira_Factoring_Corporativo',\n",
              "       'Carteira_Setor_Publico', 'Carteira_Precatorios',\n",
              "       'Carteira_Creditos_Tributarios', 'Carteira_Royalties',\n",
              "       'Carteira_Outros_Setor_Publico', 'Carteira_Acoes_Judiciais',\n",
              "       'Carteira_Propriedade_Intelectual', 'Passivo', 'Passivo_A_Pagar',\n",
              "       'Passivo_Curto_Prazo', 'Passivo_Longo_Prazo',\n",
              "       'Passivo_Posicao_Derivativos', 'Passivo_Mercado_Termo',\n",
              "       'Passivo_Mercado_Opcoes', 'Passivo_Mercado_Futuro',\n",
              "       'Passivo_Diferencial_Swap', 'Patrimonio_Liquido',\n",
              "       'Patrimonio_Liquido_Medio', 'Carteira_Direitos_Aquisicao_Prazo',\n",
              "       'Carteira_Direitos_Aquisicao_Prazo_1_30_dias',\n",
              "       'Carteira_Direitos_Aquisicao_Prazo_31_60_Dias',\n",
              "       'Carteira_Direitos_Aquisicao_Prazo_61_90_Dias',\n",
              "       'Carteira_Direitos_Aquisicao_Prazo_91_120_Dias',\n",
              "       'Carteira_Direitos_Aquisicao_Prazo_121_150_Dias',\n",
              "       'Carteira_Direitos_Aquisicao_Prazo_151_180_Dias',\n",
              "       'Carteira_Direitos_Aquisicao_Prazo_181_360_Dias',\n",
              "       'Carteira_Direitos_Aquisicao_Prazo_361_720_Dias',\n",
              "       'Carteira_Direitos_Aquisicao_Prazo_721_1080_Dias',\n",
              "       'Carteira_Direitos_Aquisicao_Prazo_Acima_1080_Dias',\n",
              "       'Carteira_Direitos_Aquisicao_Inadimplentes',\n",
              "       'Carteira_Direitos_Aquisicao_Inadimplentes_1_30_Dias',\n",
              "       'Carteira_Direitos_Aquisicao_Inadimplentes_31_60_Dias',\n",
              "       'Carteira_Direitos_Aquisicao_Inadimplentes_61_90_Dias',\n",
              "       'Carteira_Direitos_Aquisicao_Inadimplentes_91_120_Dias',\n",
              "       'Carteira_Direitos_Aquisicao_Inadimplentes_121_150_Dias',\n",
              "       'Carteira_Direitos_Aquisicao_Inadimplentes_151_180_Dias',\n",
              "       'Carteira_Direitos_Aquisicao_Inadimplentes_181_360_Dias',\n",
              "       'Carteira_Direitos_Aquisicao_Inadimplentes_361_720_Dias',\n",
              "       'Carteira_Direitos_Aquisicao_Inadimplentes_721_1080_Dias',\n",
              "       'Carteira_Direitos_Aquisicao_Inadimplentes_Acima_1080_Dias',\n",
              "       'Carteira_Direitos_Aquisicao_Pagos',\n",
              "       'Carteira_Direitos_Aquisicao_Pagos_1_30_Dias',\n",
              "       'Carteira_Direitos_Aquisicao_Pagos_31_60_Dias',\n",
              "       'Carteira_Direitos_Aquisicao_Pagos_61_90_Dias',\n",
              "       'Carteira_Direitos_Aquisicao_Pagos_91_120_Dias',\n",
              "       'Carteira_Direitos_Aquisicao_Pagos_121_150_Dias',\n",
              "       'Carteira_Direitos_Aquisicao_Pagos_151_180_Dias',\n",
              "       'Carteira_Direitos_Aquisicao_Pagos_181_360_Dias',\n",
              "       'Carteira_Direitos_Aquisicao_Pagos_361_720_Dias',\n",
              "       'Carteira_Direitos_Aquisicao_Pagos_721_1080_Dias',\n",
              "       'Carteira_Direitos_Aquisicao_Pagos_Acima_1080_Dias',\n",
              "       'Carteira_Direitos_Sem_Aquisicao_Prazo',\n",
              "       'Carteira_Direitos_Sem_Aquisicao_Prazo_1_30_dias',\n",
              "       'Carteira_Direitos_Sem_Aquisicao_Prazo_31_60_Dias',\n",
              "       'Carteira_Direitos_Sem_Aquisicao_Prazo_61_90_Dias',\n",
              "       'Carteira_Direitos_Sem_Aquisicao_Prazo_91_120_Dias',\n",
              "       'Carteira_Direitos_Sem_Aquisicao_Prazo_121_150_Dias',\n",
              "       'Carteira_Direitos_Sem_Aquisicao_Prazo_151_180_Dias',\n",
              "       'Carteira_Direitos_Sem_Aquisicao_Prazo_181_360_Dias',\n",
              "       'Carteira_Direitos_Sem_Aquisicao_Prazo_361_720_Dias',\n",
              "       'Carteira_Direitos_Sem_Aquisicao_Prazo_721_1080_Dias',\n",
              "       'Carteira_Direitos_Sem_Aquisicao_Prazo_Acima_1080_Dias',\n",
              "       'Carteira_Direitos_Sem_Aquisicao_Inadimplentes',\n",
              "       'Carteira_Direitos_Sem_Aquisicao_Inadimplentes_1_30_Dias',\n",
              "       'Carteira_Direitos_Sem_Aquisicao_Inadimplentes_31_60_Dias',\n",
              "       'Carteira_Direitos_Sem_Aquisicao_Inadimplentes_61_90_Dias',\n",
              "       'Carteira_Direitos_Sem_Aquisicao_Inadimplentes_91_120_Dias',\n",
              "       'Carteira_Direitos_Sem_Aquisicao_Inadimplentes_121_150_Dias',\n",
              "       'Carteira_Direitos_Sem_Aquisicao_Inadimplentes_151_180_Dias',\n",
              "       'Carteira_Direitos_Sem_Aquisicao_Inadimplentes_181_360_Dias',\n",
              "       'Carteira_Direitos_Sem_Aquisicao_Inadimplentes_361_720_Dias',\n",
              "       'Carteira_Direitos_Sem_Aquisicao_Inadimplentes_721_1080_Dias',\n",
              "       'Carteira_Direitos_Sem_Aquisicao_Inadimplentes_Acima_1080_Dias',\n",
              "       'Carteira_Direitos_Sem_Aquisicao_Pagos',\n",
              "       'Carteira_Direitos_Sem_Aquisicao_Pagos_1_30_Dias',\n",
              "       'Carteira_Direitos_Sem_Aquisicao_Pagos_31_60_Dias',\n",
              "       'Carteira_Direitos_Sem_Aquisicao_Pagos_61_90_Dias',\n",
              "       'Carteira_Direitos_Sem_Aquisicao_Pagos_91_120_Dias',\n",
              "       'Carteira_Direitos_Sem_Aquisicao_Pagos_121_150_Dias',\n",
              "       'Carteira_Direitos_Sem_Aquisicao_Pagos_151_180_Dias',\n",
              "       'Carteira_Direitos_Sem_Aquisicao_Pagos_181_360_Dias',\n",
              "       'Carteira_Direitos_Sem_Aquisicao_Pagos_361_720_Dias',\n",
              "       'Carteira_Direitos_Sem_Aquisicao_Pagos_721_1080_Dias',\n",
              "       'Carteira_Direitos_Sem_Aquisicao_Pagos_Acima_1080_Dias',\n",
              "       'Negocios_Aquisicoes_Direitos_Aquisicao_Quantidade',\n",
              "       'Negocios_Aquisicoes_Direitos_Aquisicao_Valor',\n",
              "       'Negocios_Aquisicoes_Direitos_Sem_Aquisicao_Quantidade',\n",
              "       'Negocios_Aquisicoes_Direitos_Sem_Aquisicao_Valor',\n",
              "       'Negocios_Aquisicoes_Direitos_Vencer_Parcelas_Adimplentes_Quantidade',\n",
              "       'Negocios_Aquisicoes_Direitos_Vencer_Parcelas_Adimplentes_Valor',\n",
              "       'Negocios_Aquisicoes_Direitos_Vencer_Parcelas_Inadimplentes_Quantidade',\n",
              "       'Negocios_Aquisicoes_Direitos_Vencer_Parcelas_Inadimplentes_Valor',\n",
              "       'Negocios_Aquisicoes_Direitos_Inadimplentes_Quantidade',\n",
              "       'Negocios_Aquisicoes_Direitos_Inadimplentes_Valor',\n",
              "       'Negocios_Alienacoes_Cedente_Quantidade',\n",
              "       'Negocios_Alienacoes_Cedente_Valor',\n",
              "       'Negocios_Alienacoes_Cedente_Valor_Contabil',\n",
              "       'Negocios_Alienacoes_Prestadores_Quantidade',\n",
              "       'Negocios_Alienacoes_Prestadores_Valor',\n",
              "       'Negocios_Alienacoes_Prestadores_Valor_Contabil',\n",
              "       'Negocios_Alienacoes_Terceiros_Quantidade',\n",
              "       'Negocios_Alienacoes_Terceiros_Valor',\n",
              "       'Negocios_Alienacoes_Terceiros_Valor_Contabil',\n",
              "       'Negocios_Substituicoes_Quantidade',\n",
              "       'Negocios_Substituicoes_Valor',\n",
              "       'Negocios_Substituicoes_Valor_Contabil',\n",
              "       'Negocios_Recompras_Quantidade', 'Negocios_Recompras_Valor',\n",
              "       'Negocios_Recompras_Valor_Contabil',\n",
              "       'Taxas_Direitos_Aquisicao_Desconto_Compra_Minina',\n",
              "       'Taxas_Direitos_Aquisicao_Desconto_Compra_Media_Ponderada',\n",
              "       'Taxas_Direitos_Aquisicao_Desconto_Compra_Maxima',\n",
              "       'Taxas_Direitos_Aquisicao_Desconto_Venda_Minina',\n",
              "       'Taxas_Direitos_Aquisicao_Desconto_Venda_Media_Ponderada',\n",
              "       'Taxas_Direitos_Aquisicao_Desconto_Venda_Maxima',\n",
              "       'Taxas_Direitos_Aquisicao_Juros_Compra_Minina',\n",
              "       'Taxas_Direitos_Aquisicao_Juros_Compra_Media_Ponderada',\n",
              "       'Taxas_Direitos_Aquisicao_Juros_Compra_Maxima',\n",
              "       'Taxas_Direitos_Aquisicao_Juros_Venda_Minina',\n",
              "       'Taxas_Direitos_Aquisicao_Juros_Venda_Media_Ponderada',\n",
              "       'Taxas_Direitos_Aquisicao_Juros_Venda_Maxima',\n",
              "       'Taxas_Direitos_Sem_Aquisicao_Desconto_Compra_Minina',\n",
              "       'Taxas_Direitos_Sem_Aquisicao_Desconto_Compra_Media_Ponderada',\n",
              "       'Taxas_Direitos_Sem_Aquisicao_Desconto_Compra_Maxima',\n",
              "       'Taxas_Direitos_Sem_Aquisicao_Desconto_Venda_Minina',\n",
              "       'Taxas_Direitos_Sem_Aquisicao_Desconto_Venda_Media_Ponderada',\n",
              "       'Taxas_Direitos_Sem_Aquisicao_Desconto_Venda_Maxima',\n",
              "       'Taxas_Direitos_Sem_Aquisicao_Juros_Compra_Minina',\n",
              "       'Taxas_Direitos_Sem_Aquisicao_Juros_Compra_Media_Ponderada',\n",
              "       'Taxas_Direitos_Sem_Aquisicao_Juros_Compra_Maxima',\n",
              "       'Taxas_Direitos_Sem_Aquisicao_Juros_Venda_Minina',\n",
              "       'Taxas_Direitos_Sem_Aquisicao_Juros_Venda_Media_Ponderada',\n",
              "       'Taxas_Direitos_Sem_Aquisicao_Juros_Venda_Maxima',\n",
              "       'Taxas_Valores_Mobiliarios_Desconto_Compra_Minina',\n",
              "       'Taxas_Valores_Mobiliarios_Desconto_Compra_Media_Ponderada',\n",
              "       'Taxas_Valores_Mobiliarios_Desconto_Compra_Maxima',\n",
              "       'Taxas_Valores_Mobiliarios_Desconto_Venda_Minina',\n",
              "       'Taxas_Valores_Mobiliarios_Desconto_Venda_Media_Ponderada',\n",
              "       'Taxas_Valores_Mobiliarios_Desconto_Venda_Maxima',\n",
              "       'Taxas_Valores_Mobiliarios_Juros_Compra_Minina',\n",
              "       'Taxas_Valores_Mobiliarios_Juros_Compra_Media_Ponderada',\n",
              "       'Taxas_Valores_Mobiliarios_Juros_Compra_Maxima',\n",
              "       'Taxas_Valores_Mobiliarios_Juros_Venda_Minina',\n",
              "       'Taxas_Valores_Mobiliarios_Juros_Venda_Media_Ponderada',\n",
              "       'Taxas_Valores_Mobiliarios_Juros_Venda_Maxima',\n",
              "       'Taxas_Titulos_Federais_Desconto_Compra_Minina',\n",
              "       'Taxas_Titulos_Federais_Desconto_Compra_Media_Ponderada',\n",
              "       'Taxas_Titulos_Federais_Desconto_Compra_Maxima',\n",
              "       'Taxas_Titulos_Federais_Desconto_Venda_Minina',\n",
              "       'Taxas_Titulos_Federais_Desconto_Venda_Media_Ponderada',\n",
              "       'Taxas_Titulos_Federais_Desconto_Venda_Maxima',\n",
              "       'Taxas_Titulos_Federais_Juros_Compra_Minina',\n",
              "       'Taxas_Titulos_Federais_Juros_Compra_Media_Ponderada',\n",
              "       'Taxas_Titulos_Federais_Juros_Compra_Maxima',\n",
              "       'Taxas_Titulos_Federais_Juros_Venda_Minina',\n",
              "       'Taxas_Titulos_Federais_Juros_Venda_Media_Ponderada',\n",
              "       'Taxas_Titulos_Federais_Juros_Venda_Maxima',\n",
              "       'Taxas_CDB_Desconto_Compra_Minina',\n",
              "       'Taxas_CDB_Desconto_Compra_Media_Ponderada',\n",
              "       'Taxas_CDB_Desconto_Compra_Maxima',\n",
              "       'Taxas_CDB_Desconto_Venda_Minina',\n",
              "       'Taxas_CDB_Desconto_Venda_Media_Ponderada',\n",
              "       'Taxas_CDB_Desconto_Venda_Maxima', 'Taxas_CDB_Juros_Compra_Minina',\n",
              "       'Taxas_CDB_Juros_Compra_Media_Ponderada',\n",
              "       'Taxas_CDB_Juros_Compra_Maxima', 'Taxas_CDB_Juros_Venda_Minina',\n",
              "       'Taxas_CDB_Juros_Venda_Media_Ponderada',\n",
              "       'Taxas_CDB_Juros_Venda_Maxima',\n",
              "       'Taxas_Renda_Fixa_Desconto_Compra_Minina',\n",
              "       'Taxas_Renda_Fixa_Desconto_Compra_Media_Ponderada',\n",
              "       'Taxas_Renda_Fixa_Desconto_Compra_Maxima',\n",
              "       'Taxas_Renda_Fixa_Desconto_Venda_Minina',\n",
              "       'Taxas_Renda_Fixa_Desconto_Venda_Media_Ponderada',\n",
              "       'Taxas_Renda_Fixa_Desconto_Venda_Maxima',\n",
              "       'Taxas_Renda_Fixa_Juros_Compra_Minina',\n",
              "       'Taxas_Renda_Fixa_Juros_Compra_Media_Ponderada',\n",
              "       'Taxas_Renda_Fixa_Juros_Compra_Maxima',\n",
              "       'Taxas_Renda_Fixa_Juros_Venda_Minina',\n",
              "       'Taxas_Renda_Fixa_Juros_Venda_Media_Ponderada',\n",
              "       'Taxas_Renda_Fixa_Juros_Venda_Maxima',\n",
              "       'Numero_Cotistas_Senior_Pessoa_Fisica',\n",
              "       'Numero_Cotistas_Senior_Pessoa_Juridica_Nao_Financeira',\n",
              "       'Numero_Cotistas_Senior_Banco_Comercial',\n",
              "       'Numero_Cotistas_Senior_Corretora_Distribuidora',\n",
              "       'Numero_Cotistas_Senior_Pessoa_Juridica_Financeira',\n",
              "       'Numero_Cotistas_Senior_Investidor_Nao_Residente',\n",
              "       'Numero_Cotistas_Senior_Entidade_Aberta_Previdencia_Complementar',\n",
              "       'Numero_Cotistas_Senior_Entidade_Fechada_Previdencia_Complementar',\n",
              "       'Numero_Cotistas_Senior_Regime_Proprio_Previdencia_Servidores_Publicos',\n",
              "       'Numero_Cotistas_Senior_Sociedade_Seguradora',\n",
              "       'Numero_Cotistas_Senior_Sociedade_Capitalizacao',\n",
              "       'Numero_Cotistas_Senior_FIC_FIDC', 'Numero_Cotistas_Senior_FII',\n",
              "       'Numero_Cotistas_Senior_Outros_Fundos',\n",
              "       'Numero_Cotistas_Senior_Clube_Investimento',\n",
              "       'Numero_Cotistas_Senior_Outros',\n",
              "       'Numero_Cotistas_Subordinada_Pessoa_Fisica',\n",
              "       'Numero_Cotistas_Subordinada_Pessoa_Juridica_Nao_Financeira',\n",
              "       'Numero_Cotistas_Subordinada_Banco_Comercial',\n",
              "       'Numero_Cotistas_Subordinada_Corretora_Distribuidora',\n",
              "       'Numero_Cotistas_Subordinada_Pessoa_Juridica_Financeira',\n",
              "       'Numero_Cotistas_Subordinada_Investidor_Nao_Residente',\n",
              "       'Numero_Cotistas_Subordinada_Entidade_Aberta_Previdencia_Complementar',\n",
              "       'Numero_Cotistas_Subordinada_Entidade_Fechada_Previdencia_Complementar',\n",
              "       'Numero_Cotistas_Subordinada_Regime_Proprio_Previdencia_Servidores_Publicos',\n",
              "       'Numero_Cotistas_Subordinada_Sociedade_Seguradora',\n",
              "       'Numero_Cotistas_Subordinada_Sociedade_Capitalizacao',\n",
              "       'Numero_Cotistas_Subordinada_FIC_FIDC',\n",
              "       'Numero_Cotistas_Subordinada_FII',\n",
              "       'Numero_Cotistas_Subordinada_Outros_Fundos',\n",
              "       'Numero_Cotistas_Subordinada_Clube_Investimento',\n",
              "       'Numero_Cotistas_Subordinada_Outros', 'Liquidez_Imediata',\n",
              "       'Liquidez_Ate_30_Dias', 'Liquidez_Ate_60_Dias',\n",
              "       'Liquidez_Ate_90_Dias', 'Liquidez_Ate_180_Dias',\n",
              "       'Liquidez_Ate_360_Dias', 'Liquidez_Acima_360_Dias',\n",
              "       'Garantias_Valor_Total', 'Garantias_Percentual', 'Sistema_Origem',\n",
              "       'Nome_Fundo'], dtype=object)"
            ]
          },
          "execution_count": 6,
          "metadata": {},
          "output_type": "execute_result"
        }
      ],
      "source": [
        "# column values of fidcs_info\n",
        "fidcs_info.columns.values"
      ]
    },
    {
      "cell_type": "code",
      "execution_count": 7,
      "metadata": {
        "id": "nYgG43M3Wocc"
      },
      "outputs": [],
      "source": [
        "# numerical columns of fidcs_info\n",
        "fidc_numerical_columns = fidcs_info.select_dtypes(include=['int', 'float']).columns\n",
        "\n",
        "# categorical columns of fidcs_info\n",
        "fidc_categorical_columns = fidcs_info.select_dtypes(include=['object']).columns"
      ]
    },
    {
      "cell_type": "code",
      "execution_count": 8,
      "metadata": {
        "colab": {
          "base_uri": "https://localhost:8080/"
        },
        "id": "MzMacPzwWvZA",
        "outputId": "a8b6ca7c-ac25-45fe-bb33-81d4e305eeec"
      },
      "outputs": [
        {
          "data": {
            "text/plain": [
              "Index(['ID_Participante', 'ID_Documento', 'CNPJ', 'CNPJ_Administrador',\n",
              "       'Prazo_Conversao_Cotas', 'Prazo_Pagamento_Resgate', 'Ativo',\n",
              "       'Ativo_Disponibilidades', 'Ativo_Carteira', 'Ativo_Direitos_Aquisicao',\n",
              "       ...\n",
              "       'Numero_Cotistas_Subordinada_Outros', 'Liquidez_Imediata',\n",
              "       'Liquidez_Ate_30_Dias', 'Liquidez_Ate_60_Dias', 'Liquidez_Ate_90_Dias',\n",
              "       'Liquidez_Ate_180_Dias', 'Liquidez_Ate_360_Dias',\n",
              "       'Liquidez_Acima_360_Dias', 'Garantias_Valor_Total',\n",
              "       'Garantias_Percentual'],\n",
              "      dtype='object', length=308)"
            ]
          },
          "execution_count": 8,
          "metadata": {},
          "output_type": "execute_result"
        }
      ],
      "source": [
        "fidc_numerical_columns"
      ]
    },
    {
      "cell_type": "code",
      "execution_count": 9,
      "metadata": {
        "colab": {
          "base_uri": "https://localhost:8080/"
        },
        "id": "UNfpVDWoW9DZ",
        "outputId": "f5a3ba94-533d-4f99-bc65-a962548420fb"
      },
      "outputs": [
        {
          "data": {
            "text/plain": [
              "Index(['SK_Documento', 'Data_Competencia', 'Data_Entrega',\n",
              "       'Nome_Administrador', 'Forma_Condominio', 'Fundo_Exclusivo',\n",
              "       'Cotistas_Vinculados_Interesse', 'Tipo_Prazo_Conversao_Cotas',\n",
              "       'Tipo_Prazo_Pagamento_Resgate',\n",
              "       'Taxas_Direitos_Aquisicao_Desconto_Compra_Media_Ponderada',\n",
              "       'Taxas_Direitos_Aquisicao_Desconto_Compra_Maxima', 'Sistema_Origem',\n",
              "       'Nome_Fundo'],\n",
              "      dtype='object')"
            ]
          },
          "execution_count": 9,
          "metadata": {},
          "output_type": "execute_result"
        }
      ],
      "source": [
        "fidc_categorical_columns"
      ]
    },
    {
      "cell_type": "code",
      "execution_count": 10,
      "metadata": {
        "colab": {
          "base_uri": "https://localhost:8080/"
        },
        "id": "O1StvkquXfOD",
        "outputId": "ec5423ef-3e72-485e-a017-13c48a45b94e"
      },
      "outputs": [
        {
          "data": {
            "text/plain": [
              "ID_Participante                0\n",
              "ID_Documento                   0\n",
              "SK_Documento                   0\n",
              "CNPJ                           0\n",
              "Data_Competencia               0\n",
              "                           ...  \n",
              "Liquidez_Acima_360_Dias    10440\n",
              "Garantias_Valor_Total      27845\n",
              "Garantias_Percentual       27849\n",
              "Sistema_Origem                 0\n",
              "Nome_Fundo                     0\n",
              "Length: 321, dtype: int64"
            ]
          },
          "execution_count": 10,
          "metadata": {},
          "output_type": "execute_result"
        }
      ],
      "source": [
        "# checking all nulls in fidcs_info\n",
        "fidcs_info.isnull().sum()"
      ]
    },
    {
      "cell_type": "code",
      "execution_count": 11,
      "metadata": {
        "colab": {
          "base_uri": "https://localhost:8080/",
          "height": 36
        },
        "id": "V70E67IYXt_-",
        "outputId": "9b31fe70-f49a-47aa-be31-54c6fa02c621"
      },
      "outputs": [
        {
          "data": {
            "text/plain": [
              "'Prazo_Pagamento_Resgate'"
            ]
          },
          "execution_count": 11,
          "metadata": {},
          "output_type": "execute_result"
        }
      ],
      "source": [
        "# checking the column with the most nulls in fidcs_info\n",
        "fidcs_info.isnull().sum().idxmax()"
      ]
    },
    {
      "cell_type": "code",
      "execution_count": 12,
      "metadata": {},
      "outputs": [
        {
          "data": {
            "text/plain": [
              "ID_Participante            0.000000\n",
              "ID_Documento               0.000000\n",
              "SK_Documento               0.000000\n",
              "CNPJ                       0.000000\n",
              "Data_Competencia           0.000000\n",
              "                             ...   \n",
              "Liquidez_Acima_360_Dias    0.182196\n",
              "Garantias_Valor_Total      0.485943\n",
              "Garantias_Percentual       0.486012\n",
              "Sistema_Origem             0.000000\n",
              "Nome_Fundo                 0.000000\n",
              "Length: 321, dtype: float64"
            ]
          },
          "execution_count": 12,
          "metadata": {},
          "output_type": "execute_result"
        }
      ],
      "source": [
        "# checking the percentage of nulls in fidcs_info\n",
        "fidcs_info.isnull().sum() / fidcs_info.shape[0]"
      ]
    },
    {
      "cell_type": "code",
      "execution_count": 45,
      "metadata": {},
      "outputs": [
        {
          "data": {
            "image/png": "[encoded data removed]",
            "text/plain": [
              "<Figure size 640x480 with 1 Axes>"
            ]
          },
          "metadata": {},
          "output_type": "display_data"
        }
      ],
      "source": [
        "# calculating the sum of nulls\n",
        "fidc_info_valores_nulos = fidcs_info.isnull().sum()\n",
        "\n",
        "# calculating the sum of not nulls \n",
        "fidc_info_valores_nao_nulos = fidcs_info.notnull().sum()\n",
        "\n",
        "rotulos = ['Nulls', 'Non Nulls']\n",
        "\n",
        "# creating a list with the sum of nulls and not nulls \n",
        "contagens = [fidc_info_valores_nulos.sum(), fidc_info_valores_nao_nulos.sum()]\n",
        "\n",
        "# plotting the graph\n",
        "plt.pie(contagens, labels=rotulos, autopct='%1.1f%%', startangle=90, colors=['red', 'blue'])\n",
        "\n",
        "# adding a title\n",
        "plt.title('Proportion of missing values')\n",
        "\n",
        "# showing the graph\n",
        "plt.show()"
      ]
    },
    {
      "cell_type": "code",
      "execution_count": 14,
      "metadata": {
        "colab": {
          "base_uri": "https://localhost:8080/",
          "height": 349
        },
        "id": "CpaloKP0Ynhj",
        "outputId": "0b9343a2-72cd-48d9-80fd-2c6d8e5bc08e"
      },
      "outputs": [
        {
          "data": {
            "text/html": [
              "<div>\n",
              "<style scoped>\n",
              "    .dataframe tbody tr th:only-of-type {\n",
              "        vertical-align: middle;\n",
              "    }\n",
              "\n",
              "    .dataframe tbody tr th {\n",
              "        vertical-align: top;\n",
              "    }\n",
              "\n",
              "    .dataframe thead th {\n",
              "        text-align: right;\n",
              "    }\n",
              "</style>\n",
              "<table border=\"1\" class=\"dataframe\">\n",
              "  <thead>\n",
              "    <tr style=\"text-align: right;\">\n",
              "      <th></th>\n",
              "      <th>ID_Participante</th>\n",
              "      <th>ID_Documento</th>\n",
              "      <th>CNPJ</th>\n",
              "      <th>CNPJ_Administrador</th>\n",
              "      <th>Prazo_Conversao_Cotas</th>\n",
              "      <th>Prazo_Pagamento_Resgate</th>\n",
              "      <th>Ativo</th>\n",
              "      <th>Ativo_Disponibilidades</th>\n",
              "      <th>Ativo_Carteira</th>\n",
              "      <th>Ativo_Direitos_Aquisicao</th>\n",
              "      <th>...</th>\n",
              "      <th>Numero_Cotistas_Subordinada_Outros</th>\n",
              "      <th>Liquidez_Imediata</th>\n",
              "      <th>Liquidez_Ate_30_Dias</th>\n",
              "      <th>Liquidez_Ate_60_Dias</th>\n",
              "      <th>Liquidez_Ate_90_Dias</th>\n",
              "      <th>Liquidez_Ate_180_Dias</th>\n",
              "      <th>Liquidez_Ate_360_Dias</th>\n",
              "      <th>Liquidez_Acima_360_Dias</th>\n",
              "      <th>Garantias_Valor_Total</th>\n",
              "      <th>Garantias_Percentual</th>\n",
              "    </tr>\n",
              "  </thead>\n",
              "  <tbody>\n",
              "    <tr>\n",
              "      <th>count</th>\n",
              "      <td>57301.000000</td>\n",
              "      <td>5.730100e+04</td>\n",
              "      <td>5.730100e+04</td>\n",
              "      <td>5.721700e+04</td>\n",
              "      <td>7558.000000</td>\n",
              "      <td>7143.000000</td>\n",
              "      <td>5.730100e+04</td>\n",
              "      <td>5.730100e+04</td>\n",
              "      <td>5.730100e+04</td>\n",
              "      <td>5.730100e+04</td>\n",
              "      <td>...</td>\n",
              "      <td>29102.000000</td>\n",
              "      <td>4.772300e+04</td>\n",
              "      <td>4.655400e+04</td>\n",
              "      <td>4.618900e+04</td>\n",
              "      <td>4.606100e+04</td>\n",
              "      <td>4.611100e+04</td>\n",
              "      <td>4.606700e+04</td>\n",
              "      <td>4.686100e+04</td>\n",
              "      <td>2.945600e+04</td>\n",
              "      <td>2.945200e+04</td>\n",
              "    </tr>\n",
              "    <tr>\n",
              "      <th>mean</th>\n",
              "      <td>144590.782063</td>\n",
              "      <td>3.842505e+07</td>\n",
              "      <td>2.352613e+13</td>\n",
              "      <td>3.943763e+13</td>\n",
              "      <td>8.863059</td>\n",
              "      <td>9.238275</td>\n",
              "      <td>1.688294e+08</td>\n",
              "      <td>3.881057e+05</td>\n",
              "      <td>1.655361e+08</td>\n",
              "      <td>6.710110e+07</td>\n",
              "      <td>...</td>\n",
              "      <td>0.755171</td>\n",
              "      <td>1.298788e+07</td>\n",
              "      <td>1.792942e+07</td>\n",
              "      <td>8.274830e+06</td>\n",
              "      <td>5.209433e+06</td>\n",
              "      <td>1.146407e+07</td>\n",
              "      <td>5.017653e+06</td>\n",
              "      <td>2.944892e+07</td>\n",
              "      <td>7.896701e+06</td>\n",
              "      <td>1.911311e+04</td>\n",
              "    </tr>\n",
              "    <tr>\n",
              "      <th>std</th>\n",
              "      <td>41383.106641</td>\n",
              "      <td>3.645301e+07</td>\n",
              "      <td>1.133995e+13</td>\n",
              "      <td>2.417907e+13</td>\n",
              "      <td>55.371850</td>\n",
              "      <td>44.500458</td>\n",
              "      <td>5.413754e+08</td>\n",
              "      <td>5.956344e+06</td>\n",
              "      <td>5.316416e+08</td>\n",
              "      <td>2.460075e+08</td>\n",
              "      <td>...</td>\n",
              "      <td>11.958295</td>\n",
              "      <td>7.631714e+07</td>\n",
              "      <td>1.446474e+08</td>\n",
              "      <td>6.582927e+07</td>\n",
              "      <td>4.331052e+07</td>\n",
              "      <td>9.744127e+07</td>\n",
              "      <td>3.767243e+07</td>\n",
              "      <td>2.674395e+08</td>\n",
              "      <td>7.127806e+07</td>\n",
              "      <td>3.278920e+06</td>\n",
              "    </tr>\n",
              "    <tr>\n",
              "      <th>min</th>\n",
              "      <td>41168.000000</td>\n",
              "      <td>1.297280e+05</td>\n",
              "      <td>5.285819e+12</td>\n",
              "      <td>6.667000e+10</td>\n",
              "      <td>0.000000</td>\n",
              "      <td>0.000000</td>\n",
              "      <td>-6.045810e+04</td>\n",
              "      <td>-2.543715e+08</td>\n",
              "      <td>-6.123566e+04</td>\n",
              "      <td>0.000000e+00</td>\n",
              "      <td>...</td>\n",
              "      <td>0.000000</td>\n",
              "      <td>-5.904826e+06</td>\n",
              "      <td>0.000000e+00</td>\n",
              "      <td>0.000000e+00</td>\n",
              "      <td>0.000000e+00</td>\n",
              "      <td>0.000000e+00</td>\n",
              "      <td>0.000000e+00</td>\n",
              "      <td>-1.810171e+06</td>\n",
              "      <td>0.000000e+00</td>\n",
              "      <td>-1.000000e-02</td>\n",
              "    </tr>\n",
              "    <tr>\n",
              "      <th>25%</th>\n",
              "      <td>112864.000000</td>\n",
              "      <td>3.377240e+05</td>\n",
              "      <td>1.309886e+13</td>\n",
              "      <td>1.348679e+13</td>\n",
              "      <td>0.000000</td>\n",
              "      <td>0.000000</td>\n",
              "      <td>9.771441e+06</td>\n",
              "      <td>1.000000e+03</td>\n",
              "      <td>8.884830e+06</td>\n",
              "      <td>0.000000e+00</td>\n",
              "      <td>...</td>\n",
              "      <td>0.000000</td>\n",
              "      <td>0.000000e+00</td>\n",
              "      <td>0.000000e+00</td>\n",
              "      <td>0.000000e+00</td>\n",
              "      <td>0.000000e+00</td>\n",
              "      <td>0.000000e+00</td>\n",
              "      <td>0.000000e+00</td>\n",
              "      <td>0.000000e+00</td>\n",
              "      <td>0.000000e+00</td>\n",
              "      <td>0.000000e+00</td>\n",
              "    </tr>\n",
              "    <tr>\n",
              "      <th>50%</th>\n",
              "      <td>146879.000000</td>\n",
              "      <td>3.840998e+07</td>\n",
              "      <td>2.294578e+13</td>\n",
              "      <td>4.206626e+13</td>\n",
              "      <td>1.000000</td>\n",
              "      <td>0.000000</td>\n",
              "      <td>3.979782e+07</td>\n",
              "      <td>3.799410e+03</td>\n",
              "      <td>3.780690e+07</td>\n",
              "      <td>6.174150e+05</td>\n",
              "      <td>...</td>\n",
              "      <td>0.000000</td>\n",
              "      <td>0.000000e+00</td>\n",
              "      <td>0.000000e+00</td>\n",
              "      <td>0.000000e+00</td>\n",
              "      <td>0.000000e+00</td>\n",
              "      <td>0.000000e+00</td>\n",
              "      <td>0.000000e+00</td>\n",
              "      <td>0.000000e+00</td>\n",
              "      <td>0.000000e+00</td>\n",
              "      <td>0.000000e+00</td>\n",
              "    </tr>\n",
              "    <tr>\n",
              "      <th>75%</th>\n",
              "      <td>173553.000000</td>\n",
              "      <td>7.431166e+07</td>\n",
              "      <td>3.136883e+13</td>\n",
              "      <td>6.228539e+13</td>\n",
              "      <td>1.000000</td>\n",
              "      <td>1.000000</td>\n",
              "      <td>1.303667e+08</td>\n",
              "      <td>2.700819e+04</td>\n",
              "      <td>1.270185e+08</td>\n",
              "      <td>3.008012e+07</td>\n",
              "      <td>...</td>\n",
              "      <td>0.000000</td>\n",
              "      <td>1.746875e+06</td>\n",
              "      <td>1.617622e+06</td>\n",
              "      <td>3.328559e+05</td>\n",
              "      <td>6.874321e+04</td>\n",
              "      <td>1.515931e+04</td>\n",
              "      <td>0.000000e+00</td>\n",
              "      <td>5.131406e+05</td>\n",
              "      <td>0.000000e+00</td>\n",
              "      <td>0.000000e+00</td>\n",
              "    </tr>\n",
              "    <tr>\n",
              "      <th>max</th>\n",
              "      <td>232259.000000</td>\n",
              "      <td>1.044774e+08</td>\n",
              "      <td>9.754877e+13</td>\n",
              "      <td>9.290456e+13</td>\n",
              "      <td>1260.000000</td>\n",
              "      <td>365.000000</td>\n",
              "      <td>1.952008e+10</td>\n",
              "      <td>1.021099e+09</td>\n",
              "      <td>1.951853e+10</td>\n",
              "      <td>8.293406e+09</td>\n",
              "      <td>...</td>\n",
              "      <td>560.000000</td>\n",
              "      <td>4.963699e+09</td>\n",
              "      <td>6.579210e+09</td>\n",
              "      <td>3.723954e+09</td>\n",
              "      <td>2.255878e+09</td>\n",
              "      <td>3.612698e+09</td>\n",
              "      <td>1.873463e+09</td>\n",
              "      <td>1.928390e+10</td>\n",
              "      <td>3.363709e+09</td>\n",
              "      <td>5.627146e+08</td>\n",
              "    </tr>\n",
              "  </tbody>\n",
              "</table>\n",
              "<p>8 rows × 308 columns</p>\n",
              "</div>"
            ],
            "text/plain": [
              "       ID_Participante  ID_Documento          CNPJ  CNPJ_Administrador  \\\n",
              "count     57301.000000  5.730100e+04  5.730100e+04        5.721700e+04   \n",
              "mean     144590.782063  3.842505e+07  2.352613e+13        3.943763e+13   \n",
              "std       41383.106641  3.645301e+07  1.133995e+13        2.417907e+13   \n",
              "min       41168.000000  1.297280e+05  5.285819e+12        6.667000e+10   \n",
              "25%      112864.000000  3.377240e+05  1.309886e+13        1.348679e+13   \n",
              "50%      146879.000000  3.840998e+07  2.294578e+13        4.206626e+13   \n",
              "75%      173553.000000  7.431166e+07  3.136883e+13        6.228539e+13   \n",
              "max      232259.000000  1.044774e+08  9.754877e+13        9.290456e+13   \n",
              "\n",
              "       Prazo_Conversao_Cotas  Prazo_Pagamento_Resgate         Ativo  \\\n",
              "count            7558.000000              7143.000000  5.730100e+04   \n",
              "mean                8.863059                 9.238275  1.688294e+08   \n",
              "std                55.371850                44.500458  5.413754e+08   \n",
              "min                 0.000000                 0.000000 -6.045810e+04   \n",
              "25%                 0.000000                 0.000000  9.771441e+06   \n",
              "50%                 1.000000                 0.000000  3.979782e+07   \n",
              "75%                 1.000000                 1.000000  1.303667e+08   \n",
              "max              1260.000000               365.000000  1.952008e+10   \n",
              "\n",
              "       Ativo_Disponibilidades  Ativo_Carteira  Ativo_Direitos_Aquisicao  ...  \\\n",
              "count            5.730100e+04    5.730100e+04              5.730100e+04  ...   \n",
              "mean             3.881057e+05    1.655361e+08              6.710110e+07  ...   \n",
              "std              5.956344e+06    5.316416e+08              2.460075e+08  ...   \n",
              "min             -2.543715e+08   -6.123566e+04              0.000000e+00  ...   \n",
              "25%              1.000000e+03    8.884830e+06              0.000000e+00  ...   \n",
              "50%              3.799410e+03    3.780690e+07              6.174150e+05  ...   \n",
              "75%              2.700819e+04    1.270185e+08              3.008012e+07  ...   \n",
              "max              1.021099e+09    1.951853e+10              8.293406e+09  ...   \n",
              "\n",
              "       Numero_Cotistas_Subordinada_Outros  Liquidez_Imediata  \\\n",
              "count                        29102.000000       4.772300e+04   \n",
              "mean                             0.755171       1.298788e+07   \n",
              "std                             11.958295       7.631714e+07   \n",
              "min                              0.000000      -5.904826e+06   \n",
              "25%                              0.000000       0.000000e+00   \n",
              "50%                              0.000000       0.000000e+00   \n",
              "75%                              0.000000       1.746875e+06   \n",
              "max                            560.000000       4.963699e+09   \n",
              "\n",
              "       Liquidez_Ate_30_Dias  Liquidez_Ate_60_Dias  Liquidez_Ate_90_Dias  \\\n",
              "count          4.655400e+04          4.618900e+04          4.606100e+04   \n",
              "mean           1.792942e+07          8.274830e+06          5.209433e+06   \n",
              "std            1.446474e+08          6.582927e+07          4.331052e+07   \n",
              "min            0.000000e+00          0.000000e+00          0.000000e+00   \n",
              "25%            0.000000e+00          0.000000e+00          0.000000e+00   \n",
              "50%            0.000000e+00          0.000000e+00          0.000000e+00   \n",
              "75%            1.617622e+06          3.328559e+05          6.874321e+04   \n",
              "max            6.579210e+09          3.723954e+09          2.255878e+09   \n",
              "\n",
              "       Liquidez_Ate_180_Dias  Liquidez_Ate_360_Dias  Liquidez_Acima_360_Dias  \\\n",
              "count           4.611100e+04           4.606700e+04             4.686100e+04   \n",
              "mean            1.146407e+07           5.017653e+06             2.944892e+07   \n",
              "std             9.744127e+07           3.767243e+07             2.674395e+08   \n",
              "min             0.000000e+00           0.000000e+00            -1.810171e+06   \n",
              "25%             0.000000e+00           0.000000e+00             0.000000e+00   \n",
              "50%             0.000000e+00           0.000000e+00             0.000000e+00   \n",
              "75%             1.515931e+04           0.000000e+00             5.131406e+05   \n",
              "max             3.612698e+09           1.873463e+09             1.928390e+10   \n",
              "\n",
              "       Garantias_Valor_Total  Garantias_Percentual  \n",
              "count           2.945600e+04          2.945200e+04  \n",
              "mean            7.896701e+06          1.911311e+04  \n",
              "std             7.127806e+07          3.278920e+06  \n",
              "min             0.000000e+00         -1.000000e-02  \n",
              "25%             0.000000e+00          0.000000e+00  \n",
              "50%             0.000000e+00          0.000000e+00  \n",
              "75%             0.000000e+00          0.000000e+00  \n",
              "max             3.363709e+09          5.627146e+08  \n",
              "\n",
              "[8 rows x 308 columns]"
            ]
          },
          "execution_count": 14,
          "metadata": {},
          "output_type": "execute_result"
        }
      ],
      "source": [
        "# describing fidcs_info \n",
        "fidcs_info.describe()"
      ]
    },
    {
      "cell_type": "markdown",
      "metadata": {
        "id": "zFYIHfLuY1Ws"
      },
      "source": [
        "#### 3.2 Plotting graphs"
      ]
    },
    {
      "cell_type": "markdown",
      "metadata": {
        "id": "ZrW_qBqZDnw9"
      },
      "source": [
        "##### 3.2.1 Correlation \"Ativo_Direitos_Aquisicao_Creditos_Vencer_Inadimplentes\" and \"Ativo_Direitos_Aquisicao_Provisao_Reducao\"\n"
      ]
    },
    {
      "cell_type": "code",
      "execution_count": 15,
      "metadata": {
        "id": "NBnfAqwbYoun"
      },
      "outputs": [],
      "source": [
        "# list of column names related to the acquisition method\n",
        "fidcs_correlation_forma_aquisicao = [\n",
        "    \"Ativo_Direitos_Aquisicao_Creditos_Vencer_Inadimplentes\",\n",
        "    \"Ativo_Direitos_Aquisicao_Provisao_Reducao\"\n",
        "]\n",
        "\n",
        "# select columns from the fidcs_info dataframe based on the provided list\n",
        "fidcs_correlation_selected_columns = fidcs_info[fidcs_correlation_forma_aquisicao]\n",
        "\n",
        "# calculate the correlation matrix for the selected columns\n",
        "fidcs_forma_aquisicao_correlation_matrix = fidcs_correlation_selected_columns.corr(\n",
        "    # the correlation matrix is calculated using the corr() method\n",
        "    # the result is a table that shows the correlation coefficients between pairs of columns\n",
        ")"
      ]
    },
    {
      "cell_type": "code",
      "execution_count": 16,
      "metadata": {
        "colab": {
          "base_uri": "https://localhost:8080/",
          "height": 816
        },
        "id": "YlCiO7CIZ5Br",
        "outputId": "f1cb5029-590a-4754-d9a6-9f069d11044f"
      },
      "outputs": [
        {
          "data": {
            "image/png": "[encoded data removed]",
            "text/plain": [
              "<Figure size 640x480 with 2 Axes>"
            ]
          },
          "metadata": {},
          "output_type": "display_data"
        }
      ],
      "source": [
        "# create a heatmap to visualize the correlation matrix\n",
        "correlation_plot = sns.heatmap(\n",
        "    fidcs_forma_aquisicao_correlation_matrix,    # the correlation matrix to visualize\n",
        "    annot=True,                                 # display correlation values on the heatmap\n",
        "    fmt=\".1f\",                                  # format for displaying values (one decimal place)\n",
        "    linewidths=.6                               # width of lines between cells in the heatmap\n",
        ")"
      ]
    },
    {
      "cell_type": "markdown",
      "metadata": {
        "id": "W8MlzR4ID6EC"
      },
      "source": [
        "###### Pie graph \"Liquidez_Ate_360_Dias\" and \"Liquidez_Acima_360_Dias\""
      ]
    },
    {
      "cell_type": "code",
      "execution_count": 17,
      "metadata": {
        "id": "nzfsCNB1EFn5"
      },
      "outputs": [],
      "source": [
        "# list of column names related to liquidity within 360 days\n",
        "liquidy_360 = [\"Liquidez_Ate_360_Dias\"]\n",
        "\n",
        "# list of column names related to liquidity after 360 days\n",
        "liquidy_after_360 = [\"Liquidez_Acima_360_Dias\"]"
      ]
    },
    {
      "cell_type": "code",
      "execution_count": 18,
      "metadata": {
        "id": "DB_q0DnIEHio"
      },
      "outputs": [],
      "source": [
        "# select columns related to liquidity within 360 days from the fidcs_info dataframe\n",
        "fidcs_liquidy_360 = fidcs_info[liquidy_360]\n",
        "\n",
        "# select columns related to liquidity after 360 days from the fidcs_info dataframe\n",
        "fidcs_liquidy_after_360 = fidcs_info[liquidy_after_360]"
      ]
    },
    {
      "cell_type": "code",
      "execution_count": 19,
      "metadata": {
        "id": "crhZZmyTEI36"
      },
      "outputs": [],
      "source": [
        "# fill missing values with 0 for the fidcs_liquidy_360 dataframe\n",
        "fidcs_liquidy_360 = fidcs_liquidy_360.fillna(0)\n",
        "\n",
        "# fill missing values with 0 for the fidcs_liquidy_after_360 dataframe\n",
        "fidcs_liquidy_after_360 = fidcs_liquidy_after_360.fillna(0)"
      ]
    },
    {
      "cell_type": "code",
      "execution_count": 20,
      "metadata": {
        "id": "izqZ-yHBEKgd"
      },
      "outputs": [],
      "source": [
        "# calculate the sum of values for each column in the fidcs_liquidy_360 dataframe\n",
        "sum_fidcs_liquidy_360_separated = fidcs_liquidy_360.sum()\n",
        "\n",
        "# calculate the sum of values for each column in the fidcs_liquidy_after_360 dataframe\n",
        "sum_fidcs_liquidy_after_360_separated = fidcs_liquidy_after_360.sum()"
      ]
    },
    {
      "cell_type": "code",
      "execution_count": 21,
      "metadata": {
        "id": "TA76uBAEEL-z"
      },
      "outputs": [],
      "source": [
        "# calculate the sum of values for all columns in the fidcs_liquidy_360 dataframe\n",
        "sum_fidcs_liquidy_360 = sum_fidcs_liquidy_360_separated.sum()\n",
        "\n",
        "# calculate the sum of values for all columns in the fidcs_liquidy_after_360_separated dataframe\n",
        "sum_fidcs_liquidy_after_360_separated = sum_fidcs_liquidy_360_separated.sum()"
      ]
    },
    {
      "cell_type": "code",
      "execution_count": 22,
      "metadata": {
        "id": "JiuXK_WrEOMH"
      },
      "outputs": [],
      "source": [
        "# create a list containing the calculated sum of liquidity values\n",
        "liquidy_df = [sum_fidcs_liquidy_360, sum_fidcs_liquidy_after_360_separated]"
      ]
    },
    {
      "cell_type": "code",
      "execution_count": 23,
      "metadata": {
        "colab": {
          "base_uri": "https://localhost:8080/",
          "height": 475
        },
        "id": "O8gdVh4NEP-Q",
        "outputId": "f403ba93-84e6-455b-ab58-106fa490f0cc"
      },
      "outputs": [
        {
          "data": {
            "text/plain": [
              "([<matplotlib.patches.Wedge at 0x7f25cbeaaad0>,\n",
              "  <matplotlib.patches.Wedge at 0x7f25cbea8fa0>],\n",
              " [Text(6.735557395310444e-17, 1.1, 'Liquidity up to 360'),\n",
              "  Text(-2.0206672185931328e-16, -1.1, 'Liquidity after 360')])"
            ]
          },
          "execution_count": 23,
          "metadata": {},
          "output_type": "execute_result"
        },
        {
          "data": {
            "image/png": "[encoded data removed]",
            "text/plain": [
              "<Figure size 640x480 with 1 Axes>"
            ]
          },
          "metadata": {},
          "output_type": "display_data"
        }
      ],
      "source": [
        "# create a pie chart to visualize the summed liquidity values\n",
        "plt.pie(\n",
        "    liquidy_df,                      # data for the pie chart\n",
        "    labels=[\"Liquidity up to 360\", \"Liquidity after 360\"],   # labels for the pie chart segments\n",
        "    colors=[\"blue\", \"red\"]             # colors for the segments\n",
        ")\n"
      ]
    },
    {
      "cell_type": "markdown",
      "metadata": {
        "id": "cpu-lgfeRmeZ"
      },
      "source": [
        "#### 3.3 Assignors_Info"
      ]
    },
    {
      "cell_type": "code",
      "execution_count": 24,
      "metadata": {
        "id": "2iyyYmg4VNzR"
      },
      "outputs": [
        {
          "data": {
            "text/html": [
              "<div>\n",
              "<style scoped>\n",
              "    .dataframe tbody tr th:only-of-type {\n",
              "        vertical-align: middle;\n",
              "    }\n",
              "\n",
              "    .dataframe tbody tr th {\n",
              "        vertical-align: top;\n",
              "    }\n",
              "\n",
              "    .dataframe thead th {\n",
              "        text-align: right;\n",
              "    }\n",
              "</style>\n",
              "<table border=\"1\" class=\"dataframe\">\n",
              "  <thead>\n",
              "    <tr style=\"text-align: right;\">\n",
              "      <th></th>\n",
              "      <th>SK_Documento</th>\n",
              "      <th>Item</th>\n",
              "      <th>Sequencial</th>\n",
              "      <th>CPF_CNPJ_Cedente</th>\n",
              "      <th>Participacao_Percentual</th>\n",
              "    </tr>\n",
              "  </thead>\n",
              "  <tbody>\n",
              "    <tr>\n",
              "      <th>0</th>\n",
              "      <td>FNET|129728</td>\n",
              "      <td>Direitos Creditórios sem Aquisição Substancial...</td>\n",
              "      <td>1</td>\n",
              "      <td>1.000000e+14</td>\n",
              "      <td>0.0</td>\n",
              "    </tr>\n",
              "    <tr>\n",
              "      <th>1</th>\n",
              "      <td>FNET|129900</td>\n",
              "      <td>Direitos Creditórios sem Aquisição Substancial...</td>\n",
              "      <td>1</td>\n",
              "      <td>1.000000e+14</td>\n",
              "      <td>0.0</td>\n",
              "    </tr>\n",
              "    <tr>\n",
              "      <th>2</th>\n",
              "      <td>FNET|129903</td>\n",
              "      <td>Direitos Creditórios sem Aquisição Substancial...</td>\n",
              "      <td>1</td>\n",
              "      <td>1.000000e+14</td>\n",
              "      <td>0.0</td>\n",
              "    </tr>\n",
              "    <tr>\n",
              "      <th>3</th>\n",
              "      <td>FNET|129904</td>\n",
              "      <td>Direitos Creditórios sem Aquisição Substancial...</td>\n",
              "      <td>1</td>\n",
              "      <td>1.000000e+14</td>\n",
              "      <td>0.0</td>\n",
              "    </tr>\n",
              "    <tr>\n",
              "      <th>4</th>\n",
              "      <td>FNET|129996</td>\n",
              "      <td>Direitos Creditórios sem Aquisição Substancial...</td>\n",
              "      <td>1</td>\n",
              "      <td>1.000000e+14</td>\n",
              "      <td>0.0</td>\n",
              "    </tr>\n",
              "  </tbody>\n",
              "</table>\n",
              "</div>"
            ],
            "text/plain": [
              "  SK_Documento                                               Item  Sequencial  \\\n",
              "0  FNET|129728  Direitos Creditórios sem Aquisição Substancial...           1   \n",
              "1  FNET|129900  Direitos Creditórios sem Aquisição Substancial...           1   \n",
              "2  FNET|129903  Direitos Creditórios sem Aquisição Substancial...           1   \n",
              "3  FNET|129904  Direitos Creditórios sem Aquisição Substancial...           1   \n",
              "4  FNET|129996  Direitos Creditórios sem Aquisição Substancial...           1   \n",
              "\n",
              "   CPF_CNPJ_Cedente  Participacao_Percentual  \n",
              "0      1.000000e+14                      0.0  \n",
              "1      1.000000e+14                      0.0  \n",
              "2      1.000000e+14                      0.0  \n",
              "3      1.000000e+14                      0.0  \n",
              "4      1.000000e+14                      0.0  "
            ]
          },
          "execution_count": 24,
          "metadata": {},
          "output_type": "execute_result"
        }
      ],
      "source": [
        "# head of assignors_info\n",
        "assignors_info.head()"
      ]
    },
    {
      "cell_type": "code",
      "execution_count": 25,
      "metadata": {},
      "outputs": [
        {
          "name": "stdout",
          "output_type": "stream",
          "text": [
            "<class 'pandas.core.frame.DataFrame'>\n",
            "RangeIndex: 56148 entries, 0 to 56147\n",
            "Data columns (total 5 columns):\n",
            " #   Column                   Non-Null Count  Dtype  \n",
            "---  ------                   --------------  -----  \n",
            " 0   SK_Documento             56148 non-null  object \n",
            " 1   Item                     56148 non-null  object \n",
            " 2   Sequencial               56148 non-null  int64  \n",
            " 3   CPF_CNPJ_Cedente         56146 non-null  float64\n",
            " 4   Participacao_Percentual  56143 non-null  float64\n",
            "dtypes: float64(2), int64(1), object(2)\n",
            "memory usage: 2.1+ MB\n"
          ]
        }
      ],
      "source": [
        "# info of assignors_info\n",
        "assignors_info.info()"
      ]
    },
    {
      "cell_type": "code",
      "execution_count": 26,
      "metadata": {},
      "outputs": [
        {
          "data": {
            "text/plain": [
              "(56148, 5)"
            ]
          },
          "execution_count": 26,
          "metadata": {},
          "output_type": "execute_result"
        }
      ],
      "source": [
        "# shape of assignors_info\n",
        "assignors_info.shape"
      ]
    },
    {
      "cell_type": "code",
      "execution_count": 27,
      "metadata": {},
      "outputs": [
        {
          "data": {
            "text/plain": [
              "array(['SK_Documento', 'Item', 'Sequencial', 'CPF_CNPJ_Cedente',\n",
              "       'Participacao_Percentual'], dtype=object)"
            ]
          },
          "execution_count": 27,
          "metadata": {},
          "output_type": "execute_result"
        }
      ],
      "source": [
        "# column values of assignors_info\n",
        "assignors_info.columns.values"
      ]
    },
    {
      "cell_type": "code",
      "execution_count": 28,
      "metadata": {},
      "outputs": [],
      "source": [
        "# numerical columns of assignors_info\n",
        "assignors_numerical_columns = assignors_info.select_dtypes(include=['int', 'float']).columns\n",
        "\n",
        "# categorical columns of assignors_info\n",
        "assignors_categorical_columns = assignors_info.select_dtypes(include=['object']).columns"
      ]
    },
    {
      "cell_type": "code",
      "execution_count": 29,
      "metadata": {},
      "outputs": [
        {
          "data": {
            "text/plain": [
              "Index(['Sequencial', 'CPF_CNPJ_Cedente', 'Participacao_Percentual'], dtype='object')"
            ]
          },
          "execution_count": 29,
          "metadata": {},
          "output_type": "execute_result"
        }
      ],
      "source": [
        "assignors_numerical_columns"
      ]
    },
    {
      "cell_type": "code",
      "execution_count": 30,
      "metadata": {},
      "outputs": [
        {
          "data": {
            "text/plain": [
              "Index(['SK_Documento', 'Item'], dtype='object')"
            ]
          },
          "execution_count": 30,
          "metadata": {},
          "output_type": "execute_result"
        }
      ],
      "source": [
        "assignors_categorical_columns"
      ]
    },
    {
      "cell_type": "code",
      "execution_count": 31,
      "metadata": {},
      "outputs": [
        {
          "data": {
            "text/plain": [
              "SK_Documento               0\n",
              "Item                       0\n",
              "Sequencial                 0\n",
              "CPF_CNPJ_Cedente           2\n",
              "Participacao_Percentual    5\n",
              "dtype: int64"
            ]
          },
          "execution_count": 31,
          "metadata": {},
          "output_type": "execute_result"
        }
      ],
      "source": [
        "# checking all nulls in assignors_info\n",
        "assignors_info.isnull().sum()"
      ]
    },
    {
      "cell_type": "code",
      "execution_count": 32,
      "metadata": {},
      "outputs": [
        {
          "data": {
            "text/plain": [
              "'Participacao_Percentual'"
            ]
          },
          "execution_count": 32,
          "metadata": {},
          "output_type": "execute_result"
        }
      ],
      "source": [
        "# checking the column with the most nulls in assignors_info\n",
        "assignors_info.isnull().sum().idxmax()"
      ]
    },
    {
      "cell_type": "code",
      "execution_count": 33,
      "metadata": {},
      "outputs": [
        {
          "data": {
            "text/plain": [
              "SK_Documento               0.000000\n",
              "Item                       0.000000\n",
              "Sequencial                 0.000000\n",
              "CPF_CNPJ_Cedente           0.000035\n",
              "Participacao_Percentual    0.000087\n",
              "dtype: float64"
            ]
          },
          "execution_count": 33,
          "metadata": {},
          "output_type": "execute_result"
        }
      ],
      "source": [
        "# checking the percentage of nulls in assignors_info\n",
        "assignors_info.isnull().sum() / fidcs_info.shape[0]"
      ]
    },
    {
      "cell_type": "code",
      "execution_count": 47,
      "metadata": {},
      "outputs": [
        {
          "data": {
            "image/png": "[encoded data removed]",
            "text/plain": [
              "<Figure size 640x480 with 1 Axes>"
            ]
          },
          "metadata": {},
          "output_type": "display_data"
        }
      ],
      "source": [
        "# calculating the sum of nulls\n",
        "assignors_info_valores_nulos = assignors_info.isnull().sum()\n",
        "\n",
        "# calculating the sum of not nulls \n",
        "assignors_info_valores_nao_nulos = assignors_info.notnull().sum()\n",
        "\n",
        "rotulos = ['Nulls', 'Non Nulls']\n",
        "\n",
        "# creating a list with the sum of nulls and not nulls \n",
        "contagens = [assignors_info_valores_nulos.sum(), assignors_info_valores_nao_nulos.sum()]\n",
        "\n",
        "# plotting the graph\n",
        "plt.pie(contagens, labels=rotulos, autopct='%1.1f%%', startangle=90, colors=['red', 'blue'])\n",
        "\n",
        "# adding a title\n",
        "plt.title('Proportion of missing values')\n",
        "\n",
        "# showing the graph\n",
        "plt.show()"
      ]
    },
    {
      "cell_type": "code",
      "execution_count": 34,
      "metadata": {},
      "outputs": [
        {
          "data": {
            "text/html": [
              "<div>\n",
              "<style scoped>\n",
              "    .dataframe tbody tr th:only-of-type {\n",
              "        vertical-align: middle;\n",
              "    }\n",
              "\n",
              "    .dataframe tbody tr th {\n",
              "        vertical-align: top;\n",
              "    }\n",
              "\n",
              "    .dataframe thead th {\n",
              "        text-align: right;\n",
              "    }\n",
              "</style>\n",
              "<table border=\"1\" class=\"dataframe\">\n",
              "  <thead>\n",
              "    <tr style=\"text-align: right;\">\n",
              "      <th></th>\n",
              "      <th>Sequencial</th>\n",
              "      <th>CPF_CNPJ_Cedente</th>\n",
              "      <th>Participacao_Percentual</th>\n",
              "    </tr>\n",
              "  </thead>\n",
              "  <tbody>\n",
              "    <tr>\n",
              "      <th>count</th>\n",
              "      <td>56148.000000</td>\n",
              "      <td>5.614600e+04</td>\n",
              "      <td>5.614300e+04</td>\n",
              "    </tr>\n",
              "    <tr>\n",
              "      <th>mean</th>\n",
              "      <td>1.521087</td>\n",
              "      <td>5.671954e+13</td>\n",
              "      <td>2.249780e+06</td>\n",
              "    </tr>\n",
              "    <tr>\n",
              "      <th>std</th>\n",
              "      <td>1.212068</td>\n",
              "      <td>4.107888e+13</td>\n",
              "      <td>3.315086e+08</td>\n",
              "    </tr>\n",
              "    <tr>\n",
              "      <th>min</th>\n",
              "      <td>1.000000</td>\n",
              "      <td>0.000000e+00</td>\n",
              "      <td>0.000000e+00</td>\n",
              "    </tr>\n",
              "    <tr>\n",
              "      <th>25%</th>\n",
              "      <td>1.000000</td>\n",
              "      <td>1.158134e+13</td>\n",
              "      <td>0.000000e+00</td>\n",
              "    </tr>\n",
              "    <tr>\n",
              "      <th>50%</th>\n",
              "      <td>1.000000</td>\n",
              "      <td>5.927461e+13</td>\n",
              "      <td>1.175000e+01</td>\n",
              "    </tr>\n",
              "    <tr>\n",
              "      <th>75%</th>\n",
              "      <td>2.000000</td>\n",
              "      <td>1.000000e+14</td>\n",
              "      <td>3.260500e+01</td>\n",
              "    </tr>\n",
              "    <tr>\n",
              "      <th>max</th>\n",
              "      <td>10.000000</td>\n",
              "      <td>1.000000e+14</td>\n",
              "      <td>5.586875e+10</td>\n",
              "    </tr>\n",
              "  </tbody>\n",
              "</table>\n",
              "</div>"
            ],
            "text/plain": [
              "         Sequencial  CPF_CNPJ_Cedente  Participacao_Percentual\n",
              "count  56148.000000      5.614600e+04             5.614300e+04\n",
              "mean       1.521087      5.671954e+13             2.249780e+06\n",
              "std        1.212068      4.107888e+13             3.315086e+08\n",
              "min        1.000000      0.000000e+00             0.000000e+00\n",
              "25%        1.000000      1.158134e+13             0.000000e+00\n",
              "50%        1.000000      5.927461e+13             1.175000e+01\n",
              "75%        2.000000      1.000000e+14             3.260500e+01\n",
              "max       10.000000      1.000000e+14             5.586875e+10"
            ]
          },
          "execution_count": 34,
          "metadata": {},
          "output_type": "execute_result"
        }
      ],
      "source": [
        "# describing assignors_info\n",
        "assignors_info.describe()"
      ]
    },
    {
      "cell_type": "markdown",
      "metadata": {
        "id": "bfB4vZ7ARp6s"
      },
      "source": [
        "#### 1.3.2 Classes_Info"
      ]
    },
    {
      "cell_type": "code",
      "execution_count": 35,
      "metadata": {
        "id": "TZZ50-QwVOMm"
      },
      "outputs": [
        {
          "data": {
            "text/html": [
              "<div>\n",
              "<style scoped>\n",
              "    .dataframe tbody tr th:only-of-type {\n",
              "        vertical-align: middle;\n",
              "    }\n",
              "\n",
              "    .dataframe tbody tr th {\n",
              "        vertical-align: top;\n",
              "    }\n",
              "\n",
              "    .dataframe thead th {\n",
              "        text-align: right;\n",
              "    }\n",
              "</style>\n",
              "<table border=\"1\" class=\"dataframe\">\n",
              "  <thead>\n",
              "    <tr style=\"text-align: right;\">\n",
              "      <th></th>\n",
              "      <th>SK_Documento</th>\n",
              "      <th>Classe_Serie</th>\n",
              "      <th>Numero_Cotistas</th>\n",
              "      <th>Quantidade_Cotas</th>\n",
              "      <th>Valor_Cota</th>\n",
              "      <th>Rentabilidade</th>\n",
              "      <th>Valor_Total_Captado</th>\n",
              "      <th>Quantidade_Cotas_Emitidas</th>\n",
              "      <th>Valor_Total_Resgates</th>\n",
              "      <th>Quantidade_Cotas_Resgatadas</th>\n",
              "      <th>Valor_A_Pagar</th>\n",
              "      <th>Quantidade_Cotas_A_Resgatar</th>\n",
              "      <th>Valor_Amortizado_Cota</th>\n",
              "      <th>Valor_Total_Amortizacao</th>\n",
              "      <th>Desempenho_Esperado</th>\n",
              "      <th>Desempenho_Realizado</th>\n",
              "    </tr>\n",
              "  </thead>\n",
              "  <tbody>\n",
              "    <tr>\n",
              "      <th>0</th>\n",
              "      <td>FNET|129903</td>\n",
              "      <td>Sênior 1</td>\n",
              "      <td>0.0</td>\n",
              "      <td>0.0</td>\n",
              "      <td>0.0</td>\n",
              "      <td>0.0</td>\n",
              "      <td>0.0</td>\n",
              "      <td>0.0</td>\n",
              "      <td>0.0</td>\n",
              "      <td>0.0</td>\n",
              "      <td>0.0</td>\n",
              "      <td>0.0</td>\n",
              "      <td>0.0</td>\n",
              "      <td>0.0</td>\n",
              "      <td>0.0</td>\n",
              "      <td>0.0</td>\n",
              "    </tr>\n",
              "    <tr>\n",
              "      <th>1</th>\n",
              "      <td>FNET|130008</td>\n",
              "      <td>Sênior 1</td>\n",
              "      <td>0.0</td>\n",
              "      <td>0.0</td>\n",
              "      <td>0.0</td>\n",
              "      <td>0.0</td>\n",
              "      <td>0.0</td>\n",
              "      <td>0.0</td>\n",
              "      <td>0.0</td>\n",
              "      <td>0.0</td>\n",
              "      <td>0.0</td>\n",
              "      <td>0.0</td>\n",
              "      <td>0.0</td>\n",
              "      <td>0.0</td>\n",
              "      <td>0.0</td>\n",
              "      <td>0.0</td>\n",
              "    </tr>\n",
              "    <tr>\n",
              "      <th>2</th>\n",
              "      <td>FNET|130017</td>\n",
              "      <td>Sênior 1</td>\n",
              "      <td>0.0</td>\n",
              "      <td>0.0</td>\n",
              "      <td>0.0</td>\n",
              "      <td>0.0</td>\n",
              "      <td>0.0</td>\n",
              "      <td>0.0</td>\n",
              "      <td>0.0</td>\n",
              "      <td>0.0</td>\n",
              "      <td>0.0</td>\n",
              "      <td>0.0</td>\n",
              "      <td>0.0</td>\n",
              "      <td>0.0</td>\n",
              "      <td>0.0</td>\n",
              "      <td>0.0</td>\n",
              "    </tr>\n",
              "    <tr>\n",
              "      <th>3</th>\n",
              "      <td>FNET|130028</td>\n",
              "      <td>Sênior 1</td>\n",
              "      <td>0.0</td>\n",
              "      <td>0.0</td>\n",
              "      <td>0.0</td>\n",
              "      <td>0.0</td>\n",
              "      <td>0.0</td>\n",
              "      <td>0.0</td>\n",
              "      <td>0.0</td>\n",
              "      <td>0.0</td>\n",
              "      <td>0.0</td>\n",
              "      <td>0.0</td>\n",
              "      <td>0.0</td>\n",
              "      <td>0.0</td>\n",
              "      <td>0.0</td>\n",
              "      <td>0.0</td>\n",
              "    </tr>\n",
              "    <tr>\n",
              "      <th>4</th>\n",
              "      <td>FNET|130035</td>\n",
              "      <td>Sênior 1</td>\n",
              "      <td>0.0</td>\n",
              "      <td>0.0</td>\n",
              "      <td>0.0</td>\n",
              "      <td>0.0</td>\n",
              "      <td>0.0</td>\n",
              "      <td>0.0</td>\n",
              "      <td>0.0</td>\n",
              "      <td>0.0</td>\n",
              "      <td>0.0</td>\n",
              "      <td>0.0</td>\n",
              "      <td>0.0</td>\n",
              "      <td>0.0</td>\n",
              "      <td>0.0</td>\n",
              "      <td>0.0</td>\n",
              "    </tr>\n",
              "  </tbody>\n",
              "</table>\n",
              "</div>"
            ],
            "text/plain": [
              "  SK_Documento Classe_Serie  Numero_Cotistas  Quantidade_Cotas  Valor_Cota  \\\n",
              "0  FNET|129903     Sênior 1              0.0               0.0         0.0   \n",
              "1  FNET|130008     Sênior 1              0.0               0.0         0.0   \n",
              "2  FNET|130017     Sênior 1              0.0               0.0         0.0   \n",
              "3  FNET|130028     Sênior 1              0.0               0.0         0.0   \n",
              "4  FNET|130035     Sênior 1              0.0               0.0         0.0   \n",
              "\n",
              "   Rentabilidade  Valor_Total_Captado  Quantidade_Cotas_Emitidas  \\\n",
              "0            0.0                  0.0                        0.0   \n",
              "1            0.0                  0.0                        0.0   \n",
              "2            0.0                  0.0                        0.0   \n",
              "3            0.0                  0.0                        0.0   \n",
              "4            0.0                  0.0                        0.0   \n",
              "\n",
              "   Valor_Total_Resgates  Quantidade_Cotas_Resgatadas  Valor_A_Pagar  \\\n",
              "0                   0.0                          0.0            0.0   \n",
              "1                   0.0                          0.0            0.0   \n",
              "2                   0.0                          0.0            0.0   \n",
              "3                   0.0                          0.0            0.0   \n",
              "4                   0.0                          0.0            0.0   \n",
              "\n",
              "   Quantidade_Cotas_A_Resgatar  Valor_Amortizado_Cota  \\\n",
              "0                          0.0                    0.0   \n",
              "1                          0.0                    0.0   \n",
              "2                          0.0                    0.0   \n",
              "3                          0.0                    0.0   \n",
              "4                          0.0                    0.0   \n",
              "\n",
              "   Valor_Total_Amortizacao  Desempenho_Esperado  Desempenho_Realizado  \n",
              "0                      0.0                  0.0                   0.0  \n",
              "1                      0.0                  0.0                   0.0  \n",
              "2                      0.0                  0.0                   0.0  \n",
              "3                      0.0                  0.0                   0.0  \n",
              "4                      0.0                  0.0                   0.0  "
            ]
          },
          "execution_count": 35,
          "metadata": {},
          "output_type": "execute_result"
        }
      ],
      "source": [
        "# head of classes_info\n",
        "classes_info.head()"
      ]
    },
    {
      "cell_type": "code",
      "execution_count": 36,
      "metadata": {},
      "outputs": [
        {
          "name": "stdout",
          "output_type": "stream",
          "text": [
            "<class 'pandas.core.frame.DataFrame'>\n",
            "RangeIndex: 178502 entries, 0 to 178501\n",
            "Data columns (total 16 columns):\n",
            " #   Column                       Non-Null Count   Dtype  \n",
            "---  ------                       --------------   -----  \n",
            " 0   SK_Documento                 178502 non-null  object \n",
            " 1   Classe_Serie                 178502 non-null  object \n",
            " 2   Numero_Cotistas              171440 non-null  float64\n",
            " 3   Quantidade_Cotas             161199 non-null  float64\n",
            " 4   Valor_Cota                   161111 non-null  float64\n",
            " 5   Rentabilidade                169001 non-null  float64\n",
            " 6   Valor_Total_Captado          138291 non-null  float64\n",
            " 7   Quantidade_Cotas_Emitidas    138280 non-null  float64\n",
            " 8   Valor_Total_Resgates         135167 non-null  float64\n",
            " 9   Quantidade_Cotas_Resgatadas  135161 non-null  float64\n",
            " 10  Valor_A_Pagar                133905 non-null  float64\n",
            " 11  Quantidade_Cotas_A_Resgatar  133901 non-null  float64\n",
            " 12  Valor_Amortizado_Cota        139672 non-null  float64\n",
            " 13  Valor_Total_Amortizacao      139678 non-null  float64\n",
            " 14  Desempenho_Esperado          110927 non-null  float64\n",
            " 15  Desempenho_Realizado         154316 non-null  float64\n",
            "dtypes: float64(14), object(2)\n",
            "memory usage: 21.8+ MB\n"
          ]
        }
      ],
      "source": [
        "# info of classes_info\n",
        "classes_info.info()"
      ]
    },
    {
      "cell_type": "code",
      "execution_count": 37,
      "metadata": {},
      "outputs": [
        {
          "data": {
            "text/plain": [
              "(178502, 16)"
            ]
          },
          "execution_count": 37,
          "metadata": {},
          "output_type": "execute_result"
        }
      ],
      "source": [
        "# shape of classes_info\n",
        "classes_info.shape"
      ]
    },
    {
      "cell_type": "code",
      "execution_count": 38,
      "metadata": {},
      "outputs": [
        {
          "data": {
            "text/plain": [
              "array(['SK_Documento', 'Classe_Serie', 'Numero_Cotistas',\n",
              "       'Quantidade_Cotas', 'Valor_Cota', 'Rentabilidade',\n",
              "       'Valor_Total_Captado', 'Quantidade_Cotas_Emitidas',\n",
              "       'Valor_Total_Resgates', 'Quantidade_Cotas_Resgatadas',\n",
              "       'Valor_A_Pagar', 'Quantidade_Cotas_A_Resgatar',\n",
              "       'Valor_Amortizado_Cota', 'Valor_Total_Amortizacao',\n",
              "       'Desempenho_Esperado', 'Desempenho_Realizado'], dtype=object)"
            ]
          },
          "execution_count": 38,
          "metadata": {},
          "output_type": "execute_result"
        }
      ],
      "source": [
        "# column values of classes_info\n",
        "classes_info.columns.values"
      ]
    },
    {
      "cell_type": "code",
      "execution_count": 39,
      "metadata": {},
      "outputs": [],
      "source": [
        "# numerical columns of classes_info\n",
        "classes_numerical_columns = classes_info.select_dtypes(include=['int', 'float']).columns\n",
        "\n",
        "# categorical columns of classes_info\n",
        "classes_categorical_columns = classes_info.select_dtypes(include=['object']).columns"
      ]
    },
    {
      "cell_type": "code",
      "execution_count": 40,
      "metadata": {},
      "outputs": [
        {
          "data": {
            "text/plain": [
              "Index(['Numero_Cotistas', 'Quantidade_Cotas', 'Valor_Cota', 'Rentabilidade',\n",
              "       'Valor_Total_Captado', 'Quantidade_Cotas_Emitidas',\n",
              "       'Valor_Total_Resgates', 'Quantidade_Cotas_Resgatadas', 'Valor_A_Pagar',\n",
              "       'Quantidade_Cotas_A_Resgatar', 'Valor_Amortizado_Cota',\n",
              "       'Valor_Total_Amortizacao', 'Desempenho_Esperado',\n",
              "       'Desempenho_Realizado'],\n",
              "      dtype='object')"
            ]
          },
          "execution_count": 40,
          "metadata": {},
          "output_type": "execute_result"
        }
      ],
      "source": [
        "classes_numerical_columns"
      ]
    },
    {
      "cell_type": "code",
      "execution_count": 41,
      "metadata": {},
      "outputs": [
        {
          "data": {
            "text/plain": [
              "Index(['SK_Documento', 'Classe_Serie'], dtype='object')"
            ]
          },
          "execution_count": 41,
          "metadata": {},
          "output_type": "execute_result"
        }
      ],
      "source": [
        "classes_categorical_columns"
      ]
    },
    {
      "cell_type": "code",
      "execution_count": 42,
      "metadata": {},
      "outputs": [
        {
          "data": {
            "text/plain": [
              "SK_Documento                       0\n",
              "Classe_Serie                       0\n",
              "Numero_Cotistas                 7062\n",
              "Quantidade_Cotas               17303\n",
              "Valor_Cota                     17391\n",
              "Rentabilidade                   9501\n",
              "Valor_Total_Captado            40211\n",
              "Quantidade_Cotas_Emitidas      40222\n",
              "Valor_Total_Resgates           43335\n",
              "Quantidade_Cotas_Resgatadas    43341\n",
              "Valor_A_Pagar                  44597\n",
              "Quantidade_Cotas_A_Resgatar    44601\n",
              "Valor_Amortizado_Cota          38830\n",
              "Valor_Total_Amortizacao        38824\n",
              "Desempenho_Esperado            67575\n",
              "Desempenho_Realizado           24186\n",
              "dtype: int64"
            ]
          },
          "execution_count": 42,
          "metadata": {},
          "output_type": "execute_result"
        }
      ],
      "source": [
        "# checking all nulls in classes_info\n",
        "classes_info.isnull().sum()"
      ]
    },
    {
      "cell_type": "code",
      "execution_count": 43,
      "metadata": {},
      "outputs": [
        {
          "data": {
            "text/plain": [
              "'Desempenho_Esperado'"
            ]
          },
          "execution_count": 43,
          "metadata": {},
          "output_type": "execute_result"
        }
      ],
      "source": [
        "# checking the column with the most nulls in classes_info\n",
        "classes_info.isnull().sum().idxmax()"
      ]
    },
    {
      "cell_type": "code",
      "execution_count": 48,
      "metadata": {},
      "outputs": [
        {
          "data": {
            "text/plain": [
              "SK_Documento                   0.000000\n",
              "Classe_Serie                   0.000000\n",
              "Numero_Cotistas                0.123244\n",
              "Quantidade_Cotas               0.301967\n",
              "Valor_Cota                     0.303503\n",
              "Rentabilidade                  0.165809\n",
              "Valor_Total_Captado            0.701750\n",
              "Quantidade_Cotas_Emitidas      0.701942\n",
              "Valor_Total_Resgates           0.756270\n",
              "Quantidade_Cotas_Resgatadas    0.756374\n",
              "Valor_A_Pagar                  0.778294\n",
              "Quantidade_Cotas_A_Resgatar    0.778363\n",
              "Valor_Amortizado_Cota          0.677650\n",
              "Valor_Total_Amortizacao        0.677545\n",
              "Desempenho_Esperado            1.179299\n",
              "Desempenho_Realizado           0.422087\n",
              "dtype: float64"
            ]
          },
          "execution_count": 48,
          "metadata": {},
          "output_type": "execute_result"
        }
      ],
      "source": [
        "# checking the percentage of nulls in classes_info\n",
        "classes_info.isnull().sum() / fidcs_info.shape[0]"
      ]
    },
    {
      "cell_type": "code",
      "execution_count": 49,
      "metadata": {},
      "outputs": [
        {
          "data": {
            "image/png": "[encoded data removed]",
            "text/plain": [
              "<Figure size 640x480 with 1 Axes>"
            ]
          },
          "metadata": {},
          "output_type": "display_data"
        }
      ],
      "source": [
        "# calculating the sum of nulls\n",
        "classes_info_valores_nulos = classes_info.isnull().sum()\n",
        "\n",
        "# calculating the sum of not nulls \n",
        "classes_info_valores_nao_nulos = classes_info.notnull().sum()\n",
        "\n",
        "rotulos = ['Nulls', 'Non Nulls']\n",
        "\n",
        "# creating a list with the sum of nulls and not nulls \n",
        "contagens = [classes_info_valores_nulos.sum(), classes_info_valores_nao_nulos.sum()]\n",
        "\n",
        "# plotting the graph\n",
        "plt.pie(contagens, labels=rotulos, autopct='%1.1f%%', startangle=90, colors=['red', 'blue'])\n",
        "\n",
        "# adding a title\n",
        "plt.title('Proportion of missing values')\n",
        "\n",
        "# showing the graph\n",
        "plt.show()"
      ]
    },
    {
      "cell_type": "code",
      "execution_count": 44,
      "metadata": {},
      "outputs": [
        {
          "data": {
            "text/html": [
              "<div>\n",
              "<style scoped>\n",
              "    .dataframe tbody tr th:only-of-type {\n",
              "        vertical-align: middle;\n",
              "    }\n",
              "\n",
              "    .dataframe tbody tr th {\n",
              "        vertical-align: top;\n",
              "    }\n",
              "\n",
              "    .dataframe thead th {\n",
              "        text-align: right;\n",
              "    }\n",
              "</style>\n",
              "<table border=\"1\" class=\"dataframe\">\n",
              "  <thead>\n",
              "    <tr style=\"text-align: right;\">\n",
              "      <th></th>\n",
              "      <th>Numero_Cotistas</th>\n",
              "      <th>Quantidade_Cotas</th>\n",
              "      <th>Valor_Cota</th>\n",
              "      <th>Rentabilidade</th>\n",
              "      <th>Valor_Total_Captado</th>\n",
              "      <th>Quantidade_Cotas_Emitidas</th>\n",
              "      <th>Valor_Total_Resgates</th>\n",
              "      <th>Quantidade_Cotas_Resgatadas</th>\n",
              "      <th>Valor_A_Pagar</th>\n",
              "      <th>Quantidade_Cotas_A_Resgatar</th>\n",
              "      <th>Valor_Amortizado_Cota</th>\n",
              "      <th>Valor_Total_Amortizacao</th>\n",
              "      <th>Desempenho_Esperado</th>\n",
              "      <th>Desempenho_Realizado</th>\n",
              "    </tr>\n",
              "  </thead>\n",
              "  <tbody>\n",
              "    <tr>\n",
              "      <th>count</th>\n",
              "      <td>171440.000000</td>\n",
              "      <td>1.611990e+05</td>\n",
              "      <td>1.611110e+05</td>\n",
              "      <td>1.690010e+05</td>\n",
              "      <td>1.382910e+05</td>\n",
              "      <td>1.382800e+05</td>\n",
              "      <td>1.351670e+05</td>\n",
              "      <td>1.351610e+05</td>\n",
              "      <td>1.339050e+05</td>\n",
              "      <td>1.339010e+05</td>\n",
              "      <td>1.396720e+05</td>\n",
              "      <td>1.396780e+05</td>\n",
              "      <td>1.109270e+05</td>\n",
              "      <td>1.543160e+05</td>\n",
              "    </tr>\n",
              "    <tr>\n",
              "      <th>mean</th>\n",
              "      <td>13.395141</td>\n",
              "      <td>5.968865e+08</td>\n",
              "      <td>3.384618e+10</td>\n",
              "      <td>4.531761e+09</td>\n",
              "      <td>5.245803e+09</td>\n",
              "      <td>5.785223e+10</td>\n",
              "      <td>1.078672e+09</td>\n",
              "      <td>1.230780e+09</td>\n",
              "      <td>8.540075e+04</td>\n",
              "      <td>1.335010e+08</td>\n",
              "      <td>6.190434e+05</td>\n",
              "      <td>7.039052e+07</td>\n",
              "      <td>2.384093e+05</td>\n",
              "      <td>4.908067e+09</td>\n",
              "    </tr>\n",
              "    <tr>\n",
              "      <th>std</th>\n",
              "      <td>291.727593</td>\n",
              "      <td>1.277250e+11</td>\n",
              "      <td>3.634312e+12</td>\n",
              "      <td>1.841295e+12</td>\n",
              "      <td>1.949580e+12</td>\n",
              "      <td>5.702335e+12</td>\n",
              "      <td>3.943996e+11</td>\n",
              "      <td>2.632556e+11</td>\n",
              "      <td>3.968175e+06</td>\n",
              "      <td>3.319516e+10</td>\n",
              "      <td>2.235528e+08</td>\n",
              "      <td>1.513736e+10</td>\n",
              "      <td>4.822000e+07</td>\n",
              "      <td>1.926801e+12</td>\n",
              "    </tr>\n",
              "    <tr>\n",
              "      <th>min</th>\n",
              "      <td>0.000000</td>\n",
              "      <td>-9.200000e+04</td>\n",
              "      <td>-1.221921e+04</td>\n",
              "      <td>-4.108352e+10</td>\n",
              "      <td>0.000000e+00</td>\n",
              "      <td>0.000000e+00</td>\n",
              "      <td>-2.750606e+05</td>\n",
              "      <td>-2.720000e+02</td>\n",
              "      <td>0.000000e+00</td>\n",
              "      <td>0.000000e+00</td>\n",
              "      <td>0.000000e+00</td>\n",
              "      <td>0.000000e+00</td>\n",
              "      <td>-1.204992e+05</td>\n",
              "      <td>-1.204992e+05</td>\n",
              "    </tr>\n",
              "    <tr>\n",
              "      <th>25%</th>\n",
              "      <td>0.000000</td>\n",
              "      <td>0.000000e+00</td>\n",
              "      <td>0.000000e+00</td>\n",
              "      <td>0.000000e+00</td>\n",
              "      <td>0.000000e+00</td>\n",
              "      <td>0.000000e+00</td>\n",
              "      <td>0.000000e+00</td>\n",
              "      <td>0.000000e+00</td>\n",
              "      <td>0.000000e+00</td>\n",
              "      <td>0.000000e+00</td>\n",
              "      <td>0.000000e+00</td>\n",
              "      <td>0.000000e+00</td>\n",
              "      <td>0.000000e+00</td>\n",
              "      <td>0.000000e+00</td>\n",
              "    </tr>\n",
              "    <tr>\n",
              "      <th>50%</th>\n",
              "      <td>1.000000</td>\n",
              "      <td>1.963376e+03</td>\n",
              "      <td>1.000000e+03</td>\n",
              "      <td>4.800000e-01</td>\n",
              "      <td>0.000000e+00</td>\n",
              "      <td>0.000000e+00</td>\n",
              "      <td>0.000000e+00</td>\n",
              "      <td>0.000000e+00</td>\n",
              "      <td>0.000000e+00</td>\n",
              "      <td>0.000000e+00</td>\n",
              "      <td>0.000000e+00</td>\n",
              "      <td>0.000000e+00</td>\n",
              "      <td>1.500000e-01</td>\n",
              "      <td>5.100000e-01</td>\n",
              "    </tr>\n",
              "    <tr>\n",
              "      <th>75%</th>\n",
              "      <td>4.000000</td>\n",
              "      <td>2.026969e+04</td>\n",
              "      <td>1.574676e+03</td>\n",
              "      <td>1.290000e+00</td>\n",
              "      <td>0.000000e+00</td>\n",
              "      <td>0.000000e+00</td>\n",
              "      <td>0.000000e+00</td>\n",
              "      <td>0.000000e+00</td>\n",
              "      <td>0.000000e+00</td>\n",
              "      <td>0.000000e+00</td>\n",
              "      <td>0.000000e+00</td>\n",
              "      <td>0.000000e+00</td>\n",
              "      <td>1.110000e+00</td>\n",
              "      <td>1.300000e+00</td>\n",
              "    </tr>\n",
              "    <tr>\n",
              "      <th>max</th>\n",
              "      <td>112057.000000</td>\n",
              "      <td>4.680014e+13</td>\n",
              "      <td>7.740136e+14</td>\n",
              "      <td>7.569066e+14</td>\n",
              "      <td>7.250000e+14</td>\n",
              "      <td>8.610792e+14</td>\n",
              "      <td>1.450000e+14</td>\n",
              "      <td>7.462871e+13</td>\n",
              "      <td>3.977817e+08</td>\n",
              "      <td>9.109100e+12</td>\n",
              "      <td>8.354071e+10</td>\n",
              "      <td>5.000000e+12</td>\n",
              "      <td>1.114503e+10</td>\n",
              "      <td>7.569066e+14</td>\n",
              "    </tr>\n",
              "  </tbody>\n",
              "</table>\n",
              "</div>"
            ],
            "text/plain": [
              "       Numero_Cotistas  Quantidade_Cotas    Valor_Cota  Rentabilidade  \\\n",
              "count    171440.000000      1.611990e+05  1.611110e+05   1.690010e+05   \n",
              "mean         13.395141      5.968865e+08  3.384618e+10   4.531761e+09   \n",
              "std         291.727593      1.277250e+11  3.634312e+12   1.841295e+12   \n",
              "min           0.000000     -9.200000e+04 -1.221921e+04  -4.108352e+10   \n",
              "25%           0.000000      0.000000e+00  0.000000e+00   0.000000e+00   \n",
              "50%           1.000000      1.963376e+03  1.000000e+03   4.800000e-01   \n",
              "75%           4.000000      2.026969e+04  1.574676e+03   1.290000e+00   \n",
              "max      112057.000000      4.680014e+13  7.740136e+14   7.569066e+14   \n",
              "\n",
              "       Valor_Total_Captado  Quantidade_Cotas_Emitidas  Valor_Total_Resgates  \\\n",
              "count         1.382910e+05               1.382800e+05          1.351670e+05   \n",
              "mean          5.245803e+09               5.785223e+10          1.078672e+09   \n",
              "std           1.949580e+12               5.702335e+12          3.943996e+11   \n",
              "min           0.000000e+00               0.000000e+00         -2.750606e+05   \n",
              "25%           0.000000e+00               0.000000e+00          0.000000e+00   \n",
              "50%           0.000000e+00               0.000000e+00          0.000000e+00   \n",
              "75%           0.000000e+00               0.000000e+00          0.000000e+00   \n",
              "max           7.250000e+14               8.610792e+14          1.450000e+14   \n",
              "\n",
              "       Quantidade_Cotas_Resgatadas  Valor_A_Pagar  \\\n",
              "count                 1.351610e+05   1.339050e+05   \n",
              "mean                  1.230780e+09   8.540075e+04   \n",
              "std                   2.632556e+11   3.968175e+06   \n",
              "min                  -2.720000e+02   0.000000e+00   \n",
              "25%                   0.000000e+00   0.000000e+00   \n",
              "50%                   0.000000e+00   0.000000e+00   \n",
              "75%                   0.000000e+00   0.000000e+00   \n",
              "max                   7.462871e+13   3.977817e+08   \n",
              "\n",
              "       Quantidade_Cotas_A_Resgatar  Valor_Amortizado_Cota  \\\n",
              "count                 1.339010e+05           1.396720e+05   \n",
              "mean                  1.335010e+08           6.190434e+05   \n",
              "std                   3.319516e+10           2.235528e+08   \n",
              "min                   0.000000e+00           0.000000e+00   \n",
              "25%                   0.000000e+00           0.000000e+00   \n",
              "50%                   0.000000e+00           0.000000e+00   \n",
              "75%                   0.000000e+00           0.000000e+00   \n",
              "max                   9.109100e+12           8.354071e+10   \n",
              "\n",
              "       Valor_Total_Amortizacao  Desempenho_Esperado  Desempenho_Realizado  \n",
              "count             1.396780e+05         1.109270e+05          1.543160e+05  \n",
              "mean              7.039052e+07         2.384093e+05          4.908067e+09  \n",
              "std               1.513736e+10         4.822000e+07          1.926801e+12  \n",
              "min               0.000000e+00        -1.204992e+05         -1.204992e+05  \n",
              "25%               0.000000e+00         0.000000e+00          0.000000e+00  \n",
              "50%               0.000000e+00         1.500000e-01          5.100000e-01  \n",
              "75%               0.000000e+00         1.110000e+00          1.300000e+00  \n",
              "max               5.000000e+12         1.114503e+10          7.569066e+14  "
            ]
          },
          "execution_count": 44,
          "metadata": {},
          "output_type": "execute_result"
        }
      ],
      "source": [
        "# describing classes_info\n",
        "classes_info.describe()"
      ]
    }
  ],
  "metadata": {
    "colab": {
      "provenance": []
    },
    "kernelspec": {
      "display_name": "Python 3",
      "name": "python3"
    },
    "language_info": {
      "codemirror_mode": {
        "name": "ipython",
        "version": 3
      },
      "file_extension": ".py",
      "mimetype": "text/x-python",
      "name": "python",
      "nbconvert_exporter": "python",
      "pygments_lexer": "ipython3",
      "version": "3.10.12"
    }
  },
  "nbformat": 4,
  "nbformat_minor": 0
}
