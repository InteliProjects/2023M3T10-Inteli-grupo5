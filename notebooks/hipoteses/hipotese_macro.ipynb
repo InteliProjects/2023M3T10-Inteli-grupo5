{
 "cells": [
  {
   "cell_type": "markdown",
   "metadata": {},
   "source": [
    "## Starting Exploratory Analysis"
   ]
  },
  {
   "cell_type": "markdown",
   "metadata": {},
   "source": [
    "#### 1. Importing the libraries and reading data"
   ]
  },
  {
   "cell_type": "code",
   "execution_count": 5,
   "metadata": {},
   "outputs": [],
   "source": [
    "# Importing the pandas library to work with data in tabular format\n",
    "import pandas as pd\n",
    "\n",
    "# Importing the numpy library for numerical operations\n",
    "import numpy as np\n",
    "\n",
    "# Importing the matplotlib.pyplot library for creating visualizations\n",
    "import matplotlib.pyplot as plt\n",
    "\n",
    "# Importing the seaborn library for enhanced data visualization\n",
    "import seaborn as sns"
   ]
  },
  {
   "cell_type": "code",
   "execution_count": null,
   "metadata": {},
   "outputs": [],
   "source": [
    "# Reading data from CSV files into DataFrames\n",
    "fidcs_info = pd.read_csv(\"./data/IM_230626_semNP.csv\")\n",
    "assignors_info = pd.read_csv(\"./data/IM_Cedente_230626_semNP.csv\")\n",
    "classes_info = pd.read_csv(\"./data/IM_Classes_230626_semNP.csv\")"
   ]
  },
  {
   "cell_type": "markdown",
   "metadata": {},
   "source": [
    "### 2. Data Info"
   ]
  },
  {
   "cell_type": "code",
   "execution_count": null,
   "metadata": {},
   "outputs": [],
   "source": [
    "# Displaying information about the fiduciary certificates DataFrame\n",
    "fidcs_info.info()"
   ]
  },
  {
   "cell_type": "code",
   "execution_count": null,
   "metadata": {},
   "outputs": [],
   "source": [
    "# Displaying information about the classes DataFrame\n",
    "classes_info.info()"
   ]
  },
  {
   "cell_type": "code",
   "execution_count": null,
   "metadata": {},
   "outputs": [],
   "source": [
    "# Getting the dimensions (rows and columns) of the fiduciary certificates DataFrame\n",
    "fidcs_info.shape"
   ]
  },
  {
   "cell_type": "code",
   "execution_count": null,
   "metadata": {},
   "outputs": [],
   "source": [
    "# Getting the dimensions (rows and columns) of the assignors DataFrame\n",
    "assignors_info.shape"
   ]
  },
  {
   "cell_type": "code",
   "execution_count": null,
   "metadata": {},
   "outputs": [],
   "source": [
    "# Getting the dimensions (rows and columns) of the classes DataFrame\n",
    "classes_info.shape"
   ]
  },
  {
   "cell_type": "code",
   "execution_count": null,
   "metadata": {},
   "outputs": [],
   "source": [
    "# Checking all possible nulls\n",
    "fidcs_info.isnull().sum()"
   ]
  },
  {
   "cell_type": "code",
   "execution_count": null,
   "metadata": {},
   "outputs": [],
   "source": [
    "# Catching a label with more nulls\n",
    "fidcs_info.isnull().sum().idxmax()"
   ]
  },
  {
   "cell_type": "code",
   "execution_count": null,
   "metadata": {},
   "outputs": [],
   "source": [
    "# Checking all possible nulls\n",
    "assignors_info.isnull().sum()"
   ]
  },
  {
   "cell_type": "code",
   "execution_count": null,
   "metadata": {},
   "outputs": [],
   "source": [
    "# Catching a label with more nulls\n",
    "assignors_info.isnull().sum().idxmax()"
   ]
  },
  {
   "cell_type": "code",
   "execution_count": null,
   "metadata": {},
   "outputs": [],
   "source": [
    "# Checking all possible nulls\n",
    "classes_info.isnull().sum()"
   ]
  },
  {
   "cell_type": "code",
   "execution_count": null,
   "metadata": {},
   "outputs": [],
   "source": [
    "# Catching a label with more nulls\n",
    "classes_info.isnull().sum().idxmax()"
   ]
  },
  {
   "cell_type": "code",
   "execution_count": null,
   "metadata": {},
   "outputs": [],
   "source": [
    "# Getting the column names as an array from the assignors DataFrame\n",
    "assignors_info.columns.values"
   ]
  },
  {
   "cell_type": "code",
   "execution_count": null,
   "metadata": {},
   "outputs": [],
   "source": [
    "# Getting the column names as an array from the classes DataFrame\n",
    "classes_info.columns.values"
   ]
  },
  {
   "cell_type": "markdown",
   "metadata": {},
   "source": [
    "### 3. Data visualization"
   ]
  },
  {
   "cell_type": "markdown",
   "metadata": {},
   "source": [
    "#### 3.1- Fidcs_info"
   ]
  },
  {
   "cell_type": "code",
   "execution_count": null,
   "metadata": {},
   "outputs": [],
   "source": [
    "# Displaying the first few rows of the fiduciary certificates DataFrame\n",
    "fidcs_info.head()"
   ]
  },
  {
   "cell_type": "code",
   "execution_count": null,
   "metadata": {},
   "outputs": [],
   "source": [
    "# Generating summary statistics for the fiduciary certificates DataFrame\n",
    "fidcs_info.describe()"
   ]
  },
  {
   "cell_type": "markdown",
   "metadata": {},
   "source": [
    "#### 3.2- Install and config Quandl"
   ]
  },
  {
   "cell_type": "code",
   "execution_count": null,
   "metadata": {},
   "outputs": [],
   "source": [
    "pip install quandl"
   ]
  },
  {
   "cell_type": "code",
   "execution_count": null,
   "metadata": {},
   "outputs": [],
   "source": [
    "#Importing Quandl\n",
    "import quandl\n"
   ]
  },
  {
   "cell_type": "code",
   "execution_count": null,
   "metadata": {},
   "outputs": [],
   "source": [
    "quandl.ApiConfig.api_key = '6pfgRGLDb-saKysqeCK7'"
   ]
  },
  {
   "cell_type": "markdown",
   "metadata": {},
   "source": [
    "#### 3.3- Import and Analysis Macro Data"
   ]
  },
  {
   "cell_type": "code",
   "execution_count": null,
   "metadata": {},
   "outputs": [],
   "source": [
    "# Use the 'quandl' library to fetch data from the BCB/4392 dataset (IPCA inflation rate) within the specified date range.\n",
    "df_ipca = quandl.get('BCB/4392', start_date='2013-01-31', end_time='2023-05-31')\n",
    "\n",
    "# Reset the index of the DataFrame to make the 'Date' column a regular column instead of an index.\n",
    "df_ipca.reset_index(inplace=True)\n",
    "\n",
    "# Rename the 'Value' column to 'IPCA' for clarity.\n",
    "df_ipca.rename(columns={'Value': 'IPCA'}, inplace=True)\n",
    "\n",
    "# Display the resulting DataFrame containing IPCA inflation rate data.\n",
    "df_ipca"
   ]
  },
  {
   "cell_type": "code",
   "execution_count": null,
   "metadata": {},
   "outputs": [],
   "source": [
    "# Use the 'quandl' library to fetch data from a different dataset, for example, BCB/4393 (CDI rate), within the specified date range.\n",
    "df_cdi = quandl.get('BCB/4393', start_date='2013-01-31', end_time='2023-05-31')\n",
    "\n",
    "# Reset the index of the DataFrame to make the 'Date' column a regular column instead of an index.\n",
    "df_cdi.reset_index(inplace=True)\n",
    "\n",
    "# Rename the 'Value' column to 'CDI' for clarity.\n",
    "df_cdi.rename(columns={'Value': 'CDI'}, inplace=True)\n",
    "\n",
    "# Display the resulting DataFrame containing CDI rate data.\n",
    "df_cdi"
   ]
  },
  {
   "cell_type": "code",
   "execution_count": null,
   "metadata": {},
   "outputs": [],
   "source": [
    "# Use the 'quandl' library to fetch data from the BCB/10813 dataset (USD to BRL exchange rate) within the specified date range.\n",
    "df_dolar = quandl.get('BCB/10813', start_date='2013-01-31', end_time='2023-05-31')\n",
    "\n",
    "# Reset the index of the DataFrame to make the 'Date' column a regular column instead of an index.\n",
    "df_dolar.reset_index(inplace=True)\n",
    "\n",
    "# Rename the 'Value' column to 'Dolar' for clarity.\n",
    "df_dolar.rename(columns={'Value': 'Dolar'}, inplace=True)\n",
    "\n",
    "# Display the resulting DataFrame containing USD to BRL exchange rate data.\n",
    "df_dolar"
   ]
  },
  {
   "cell_type": "code",
   "execution_count": null,
   "metadata": {},
   "outputs": [],
   "source": [
    "# Use the 'quandl' library to fetch data from the ODA/BRA_NGDPD dataset (GDP for Brazil) within the specified date range.\n",
    "df_pib = quandl.get('ODA/BRA_NGDPD', start_date='2013-01-31', end_time='2023-05-31')\n",
    "\n",
    "# Reset the index of the DataFrame to make the 'Date' column a regular column instead of an index.\n",
    "df_pib.reset_index(inplace=True)\n",
    "\n",
    "# Rename the 'Value' column to 'PIB' (GDP) for clarity.\n",
    "df_pib.rename(columns={'Value': 'PIB'}, inplace=True)\n",
    "\n",
    "# Display the resulting DataFrame containing GDP data for Brazil.\n",
    "df_pib"
   ]
  },
  {
   "cell_type": "markdown",
   "metadata": {},
   "source": [
    "#### 3.4- Setting Data-time"
   ]
  },
  {
   "cell_type": "code",
   "execution_count": null,
   "metadata": {},
   "outputs": [],
   "source": [
    "# Rename the 'Data_Competencia' column to 'Date' in the df_informe_mensal DataFrame.\n",
    "df_informe_mensal.rename(columns={'Data_Competencia': 'Date'}, inplace=True)\n",
    "\n",
    "# Convert the 'Data_Competencia' column to datetime format in the df_informe_mensal DataFrame.\n",
    "df_informe_mensal['Data_Competencia'] = pd.to_datetime(df_informe_mensal['Data_Competencia'])\n",
    "\n",
    "# Convert the 'Date' column to datetime format in the df_selic DataFrame.\n",
    "df_selic['Date'] = pd.to_datetime(df_selic['Date'])"
   ]
  },
  {
   "cell_type": "markdown",
   "metadata": {},
   "source": [
    "#### 3.5- Merging macro data with the database:"
   ]
  },
  {
   "cell_type": "code",
   "execution_count": null,
   "metadata": {},
   "outputs": [],
   "source": [
    "# Merge df_informe_mensal and df_selic DataFrames on 'Date' using an inner join.\n",
    "merge_selic = pd.merge(df_informe_mensal, df_selic, on=['Date'], how='inner')\n",
    "\n",
    "# Merge merge_selic and df_ipca DataFrames on 'Date' using an inner join.\n",
    "merge_ipca = pd.merge(merge_selic, df_ipca, on=['Date'], how='inner')\n",
    "\n",
    "# Merge merge_ipca and df_cdi DataFrames on 'Date' using an inner join.\n",
    "merge_cdi = pd.merge(merge_ipca, df_cdi, on=['Date'], how='inner')\n",
    "\n",
    "# Merge merge_cdi and df_dolar DataFrames on 'Date' using an inner join.\n",
    "merge_dolar = pd.merge(merge_cdi, df_dolar, on=['Date'], how='inner')\n",
    "\n",
    "# Merge merge_dolar and df_pib DataFrames on 'Date' using an inner join.\n",
    "merge_informe_mensal = pd.merge(merge_dolar, df_pib, on=['Date'], how='inner')\n",
    "\n",
    "# Update df_informe_mensal with the merged DataFrame.\n",
    "df_informe_mensal = merge_informe_mensal\n",
    "\n",
    "# Display the updated df_informe_mensal DataFrame.\n",
    "df_informe_mensal"
   ]
  },
  {
   "cell_type": "markdown",
   "metadata": {},
   "source": [
    "### 4. Plotting Graphics"
   ]
  },
  {
   "cell_type": "markdown",
   "metadata": {},
   "source": [
    "#### 4.1- Interest Rates Graphic:"
   ]
  },
  {
   "cell_type": "code",
   "execution_count": null,
   "metadata": {},
   "outputs": [],
   "source": [
    "\n",
    "# Select columns of interest from the df_informe_mensal DataFrame.\n",
    "interest_rates = df_informe_mensal[['Taxas_CDB_Juros_Compra_Minina','Selic', 'Date']]\n",
    "\n",
    "# Set the 'Date' column as the index of the interest_rates DataFrame.\n",
    "interest_rates.set_index('Date', inplace=True)\n",
    "\n",
    "# Create a line plot to visualize the interest rate data.\n",
    "plt.figure(figsize=(10, 10))\n",
    "interest_rates.plot()\n",
    "\n",
    "# Add title, labels, and grid to the plot.\n",
    "plt.title('Interest Rates')\n",
    "plt.xlabel('Date')\n",
    "plt.ylabel('Interest Rate')\n",
    "plt.grid(True)\n",
    "\n",
    "# Display the plot.\n",
    "plt.show()"
   ]
  },
  {
   "cell_type": "markdown",
   "metadata": {},
   "source": [
    "#### 4.2- Relationship between interest rate and date:"
   ]
  },
  {
   "cell_type": "code",
   "execution_count": null,
   "metadata": {},
   "outputs": [],
   "source": [
    "# Create a scatter plot to visualize the relationship between interest rate and default rate.\n",
    "plt.figure(figsize=(8, 6))  # Set the size of the plot\n",
    "plt.scatter(df_informe_mensal['Taxas_Direitos_Aquisicao_Juros_Compra_Minina'], df_informe_mensal['Date'])  # Scatter plot using specified columns\n",
    "\n",
    "# Add title, x-label, y-label, and grid to the plot.\n",
    "plt.title('Relação entre Taxa de Juros com o tempo')  # Title of the plot\n",
    "plt.xlabel('Taxa de Juros')  # Label for the x-axis\n",
    "plt.ylabel('Data')  # Label for the y-axis\n",
    "plt.grid(True)  # Show grid lines\n",
    "\n",
    "# Display the scatter plot.\n",
    "plt.show()  # Show the plot"
   ]
  },
  {
   "cell_type": "code",
   "execution_count": null,
   "metadata": {},
   "outputs": [],
   "source": [
    "\n",
    "# Definir as colunas que deseja plotar\n",
    "colunas_plot = ['Selic', 'PIB', 'Dolar', 'IPCA']\n",
    "\n",
    "# Criar o gráfico de linhas\n",
    "plt.figure(figsize=(15, 10))\n",
    "\n",
    "for coluna in colunas_plot:\n",
    "    plt.scatter(df_informe_mensal['Taxas_Direitos_Aquisicao_Juros_Compra_Minina'], df_informe_mensal[coluna], marker='o', label=coluna)\n",
    "\n",
    "plt.xlabel('Micro')\n",
    "plt.ylabel('Macro')\n",
    "plt.title('Macro x Micro')\n",
    "plt.legend()\n",
    "plt.grid(True)\n",
    "plt.show()"
   ]
  },
  {
   "cell_type": "code",
   "execution_count": null,
   "metadata": {},
   "outputs": [],
   "source": [
    "# List of columns to be plotted\n",
    "selected_columns = [\n",
    "    'Ativo_Debentures',\n",
    "    'Ativo_Notas_Promissorias',\n",
    "    'Ativo_Letras Financeiras',\n",
    "    'Ativo_CRI',\n",
    "    'Ativo_Posicao_Derivativos'\n",
    "]\n",
    "\n",
    "# Create a line plot to compare macroeconomic indicators with the interest rate\n",
    "plt.figure(figsize=(25, 18))  # Set the size of the plot\n",
    "\n",
    "# Iterate through the selected columns and plot each one\n",
    "for coluna in selected_columns:\n",
    "    plt.scatter(df_informe_mensal['Date'], df_informe_mensal[coluna], marker='o', label=coluna)\n",
    "\n",
    "plt.xlabel('Tempo')  # X-axis label\n",
    "plt.ylabel('')  # Y-axis label (empty in this case)\n",
    "plt.title('Ativos x Tempo')  # Title of the plot\n",
    "plt.legend()  # Display the legend\n",
    "plt.grid(True)  # Show grid lines\n",
    "\n",
    "# Display the plot\n",
    "plt.show()  # Show the plot\n"
   ]
  },
  {
   "cell_type": "code",
   "execution_count": null,
   "metadata": {},
   "outputs": [],
   "source": [
    "# Create a scatter plot to visualize the relationship between interest rate and Selic rate.\n",
    "plt.figure(figsize=(8, 6))  # Set the size of the plot\n",
    "plt.scatter(df_informe_mensal['Taxas_CDB_Juros_Compra_Minina'], df_informe_mensal['Selic'])  # Scatter plot using specified columns\n",
    "\n",
    "# Add title, x-label, y-label, and grid to the plot.\n",
    "plt.title('Relação entre Taxa de Juros e Taxa Selic')  # Title of the plot\n",
    "plt.xlabel('Taxa de Juros')  # Label for the x-axis\n",
    "plt.ylabel('Taxa Selic')  # Label for the y-axis\n",
    "plt.grid(True)  # Show grid lines\n",
    "\n",
    "# Display the scatter plot.\n",
    "plt.show()  # Show the plot"
   ]
  },
  {
   "cell_type": "markdown",
   "metadata": {},
   "source": [
    "#### 4.3- Correlation matrix: "
   ]
  },
  {
   "cell_type": "code",
   "execution_count": null,
   "metadata": {},
   "outputs": [],
   "source": [
    "selected_columns = [\n",
    "    'Date',\n",
    "    'Taxas_Direitos_Aquisicao_Juros_Compra_Minina',\n",
    "    'Taxas_CDB_Juros_Compra_Minina',\n",
    "    'Taxas_Renda_Fixa_Juros_Compra_Minina',\n",
    "    'Ativo_CDB',\n",
    "    'Ativo_Debentures',\n",
    "    'Ativo_Notas_Promissorias',\n",
    "    'Ativo_Letras Financeiras',\n",
    "    'Ativo_CRI',\n",
    "    'Ativo_Titulos_Federais',\n",
    "    'Ativo_Posicao_Derivativos',\n",
    "    'Passivo_A_Pagar',\n",
    "    'Carteira_Industrial',\n",
    "    'Carteira_Comercial_Total',\n",
    "    'Carteira_Servicos_Total',\n",
    "    'Carteira_Agronegocio',\n",
    "    'Carteira_Credito_Corporativo',\n",
    "    'Carteira_Middle_Market',\n",
    "    'Patrimonio_Liquido',\n",
    "    'Numero_Cotistas_Senior_Pessoa_Fisica',\n",
    "    'Numero_Cotistas_Senior_Pessoa_Juridica_Nao_Financeira',\n",
    "    'Numero_Cotistas_Subordinada_Pessoa_Fisica',\n",
    "    'Numero_Cotistas_Subordinada_Pessoa_Juridica_Nao_Financeira',\n",
    "    'Liquidez_Imediata',\n",
    "    'Liquidez_Ate_30_Dias',\n",
    "    'Liquidez_Acima_360_Dias',\n",
    "    'Selic',\n",
    "    'CDI',\n",
    "    'IPCA',\n",
    "    'Dolar',\n",
    "    'PIB'\n",
    "]\n",
    "\n",
    "# Create a subset DataFrame with selected columns\n",
    "subset_data = df_informe_mensal[selected_columns]\n",
    "\n",
    "# Calculate the correlation matrix\n",
    "correlation_matrix = subset_data.corr()\n",
    "\n",
    "# Plot the correlation matrix as a heatmap\n",
    "plt.figure(figsize=(15, 15))\n",
    "sns.heatmap(correlation_matrix, annot=True, cmap='coolwarm', fmt=\".2f\")\n",
    "plt.title('Matriz de Correlação')\n",
    "plt.show()\n"
   ]
  }
 ],
 "metadata": {
  "kernelspec": {
   "display_name": "Python 3",
   "language": "python",
   "name": "python3"
  },
  "language_info": {
   "codemirror_mode": {
    "name": "ipython",
    "version": 3
   },
   "file_extension": ".py",
   "mimetype": "text/x-python",
   "name": "python",
   "nbconvert_exporter": "python",
   "pygments_lexer": "ipython3",
   "version": "3.11.5"
  },
  "orig_nbformat": 4
 },
 "nbformat": 4,
 "nbformat_minor": 2
}
